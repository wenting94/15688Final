{
 "cells": [
  {
   "cell_type": "markdown",
   "metadata": {
    "colab_type": "text",
    "id": "AJ1PFZqqCc0Z"
   },
   "source": [
    "# **15688 Final Project: Yelp Rating Analysis**\n",
    "\n",
    "**Authors**:<br> \n",
    "Jiahui Cai<br>\n",
    "Yingtian Zhu<br>\n",
    "Wenting Zhao"
   ]
  },
  {
   "cell_type": "markdown",
   "metadata": {
    "colab_type": "text",
    "id": "_TfaWySICqIL"
   },
   "source": [
    "# Problem Statement\n",
    "When thinking about Yelp rating, what immediately props out is the five-star image partially filled with customer input scoring. Given that there are many other types of information available such as business features and characteristics of reviews, a question is raised: is rating a standalone metric, or does it have a relationship with the other information?\n",
    "\n",
    "This project implements a comprehensive analysis of Yelp restaurant ratings on what business features and how the characteristics of reviews impact rating.\n",
    "\n",
    "# Motivation\n",
    "We want to analyze the Yelp business data and review data to get more insights about the relationship between reviews and different factors, such as transctions, price. We also want to know does different gender groups have bias on reviews and ratings.\n",
    "\n",
    "From the data perspective, in order to address the question raised, we need to work with different types of data: ratings are numerical, business metrics such as transactions and price range are categorical, whereas reviews are unstructured text. From the project and learning perspective, dealing with various types of data requires us to first select the appropriate tools and then reason our findings from different types of outcomes. As a high-level overview, we will be using API data extraction, visualization, categorical regression, and sentiment analysis.\n",
    "\n",
    "\n",
    "#Data\n",
    "We obtain business details and reviews from Yelp API. \n",
    "#### What to select: \n",
    "To collect a dataset of reasonable size while capturing geographical variance, we randomly pick 1000 restaurants for each of 9 metropolitan cities across the U.S. The cities selected are: New York, Boston, Chicago, Houston, Austin, San Francisco, Seattle, Atlanta, and Miami\n",
    "\n",
    "#### How to obtain: \n",
    "**Source**: Yelp API<br>\n",
    "**Step 1**: Obtain business details from https://api.yelp.com/v3/businesses/search, with city as selection criteria<br>\n",
    "**Step 2**: Obtain business reviews from \"https://api.yelp.com/v3/businesses/{id}/reviews\"<br>\n",
    ".\n",
    "\n",
    "\n"
   ]
  },
  {
   "cell_type": "markdown",
   "metadata": {
    "colab_type": "text",
    "id": "-yqT2n9yDL_P"
   },
   "source": [
    "# import libraries"
   ]
  },
  {
   "cell_type": "code",
   "execution_count": null,
   "metadata": {
    "colab": {},
    "colab_type": "code",
    "id": "rP_JPsvwGNP7"
   },
   "outputs": [],
   "source": [
    "import io, time, json\n",
    "import requests\n",
    "from pathlib import Path\n",
    "import tqdm\n",
    "from tqdm import tqdm\n",
    "import pandas as pd \n",
    "import numpy as np \n",
    "pd.set_option('display.max_colwidth', 200)\n",
    "import re\n",
    "import pickle\n",
    "import nltk\n",
    "import plotly.graph_objects as go\n",
    "import ipywidgets as widgets\n",
    "from ipywidgets import interactive\n",
    "import matplotlib.pyplot as plt\n",
    "%matplotlib inline\n",
    "from IPython.display import display\n",
    "from sklearn import datasets, linear_model\n",
    "from sklearn.linear_model import LinearRegression\n",
    "import statsmodels.api as sm\n",
    "from scipy import stats\n",
    "from scipy.stats import ttest_ind\n",
    "import statsmodels.formula.api as smf"
   ]
  },
  {
   "cell_type": "markdown",
   "metadata": {
    "colab_type": "text",
    "id": "GpOKdSPmGhPP"
   },
   "source": [
    "# Query Yelp API for Data"
   ]
  },
  {
   "cell_type": "code",
   "execution_count": null,
   "metadata": {
    "colab": {},
    "colab_type": "code",
    "id": "Ao455SPoGx0l"
   },
   "outputs": [],
   "source": [
    "#define functions to get business data from Yelp Api\n",
    "def read_api_key():\n",
    "    \"\"\"\n",
    "    Read the Yelp API Key from file.\n",
    "    \"\"\"\n",
    "    api_key = \"pJUWxhOboVgcg6Ja8fN218nQXc6nLyTLPCIRkOEuZZT9_fTyfbhy6H9DBLYASUitrryZG5kwPCKzHmAvgmQUFP1-RwxQbLDW-N-zdCvSdcm1OVu6O5VZpMbIxpdqXXYx\"\n",
    "    return api_key\n",
    "\n",
    "def yelp_search(api_key, query):\n",
    "    \"\"\"\n",
    "    Make an authenticated request to the Yelp API.\n",
    "    \"\"\"\n",
    "    headers = {'Authorization':'Bearer {}'.format(api_key)}\n",
    "    url = 'https://api.yelp.com/v3/businesses/search'\n",
    "    print(\"yelp_search query:\", query)\n",
    "    params = {'location':query}\n",
    "    r = requests.get(url, params=params, headers=headers)\n",
    "    r_json = json.loads(r.content)\n",
    "    return r_json['total'], r_json['businesses'] \n",
    "\n",
    "def all_restaurants(api_key, query):\n",
    "    \"\"\"\n",
    "    Retrieve ALL the restaurants on Yelp for a given query.\n",
    "    \"\"\"\n",
    "    headers = {'Authorization':'Bearer {}'.format(api_key)}\n",
    "    url = 'https://api.yelp.com/v3/businesses/search'\n",
    "    params = {'location':query,'categories':'restaurants'}\n",
    "    r = requests.get(url, params=params, headers=headers)\n",
    "    print(\"allrestaurantsquery: \", query, \"r: \",r)\n",
    "    data = json.loads(r.content)\n",
    "    print(data)\n",
    "    total = data['total']\n",
    "    res = data['businesses'] \n",
    "    while len(res) < total:\n",
    "        print(len(res),total)\n",
    "        params = {'categories':'restaurants','location':query,'offset':len(res)}\n",
    "        r = requests.get(url, params=params, headers=headers)\n",
    "        data = json.loads(r.content)\n",
    "        try:\n",
    "            res.extend(data['businesses'])\n",
    "        except:\n",
    "            print(data)\n",
    "            break\n",
    "        time.sleep(0.3)\n",
    "    return res\n",
    "\n",
    "def parse_api_response(data):\n",
    "    \"\"\"\n",
    "    Parse Yelp API results to create business dictionary\n",
    "    \"\"\"\n",
    "    \n",
    "    business_dic= {}\n",
    "    for i in data:\n",
    "        business_dic[i['id']] = i\n",
    "    return business_dic\n",
    "\n"
   ]
  },
  {
   "cell_type": "code",
   "execution_count": null,
   "metadata": {
    "colab": {},
    "colab_type": "code",
    "id": "1RRGbgoQHhCN"
   },
   "outputs": [],
   "source": [
    "api_key = read_api_key()\n",
    "#define 9 major cities in US\n",
    "Queries = ['New York', 'Boston', 'Chicago', 'Houston','Austin', 'San Francisco', 'Seattle', 'Atlanta','Miami']\n",
    "#define functions to get business reviews from Yelp Api\n",
    "\n",
    "def get_review(api_key,business_id):\n",
    "    \"\"\"\n",
    "    get reviews from yelp api\n",
    "    \"\"\"\n",
    "    headers = {'Authorization':'Bearer {}'.format(api_key)}\n",
    "    url = \"https://api.yelp.com/v3/businesses/{}/reviews\".format(business_id)\n",
    "    r = requests.get(url, headers=headers)\n",
    "    r_json = json.loads(r.content)\n",
    "    try:\n",
    "        tmp = r_json['reviews']\n",
    "        return tmp \n",
    "    except:\n",
    "        return []\n",
    "    \n",
    "def all_reviews(api_key, business_dict):\n",
    "    \"\"\"\n",
    "    add reviews as elements in business dict \n",
    "    \"\"\"\n",
    "    for id in business_dict:\n",
    "        business_dict[id]['reviews'] = get_review(api_key,id)\n",
    "    return business_dict\n",
    "\n",
    "def get_city_review(api_key,city_list):\n",
    "    \"\"\"\n",
    "    loop through the city list and create a city dic, city as key, and all the restaurants info as value\n",
    "    \"\"\"\n",
    "    city_dic={}\n",
    "    for city in city_list:\n",
    "        business = all_restaurants(api_key,city)\n",
    "        business_dic = parse_api_response(business)\n",
    "        city_dic[city] = all_reviews(api_key,business_dic)\n",
    "    return city_dic\n",
    "\n",
    "city_dic = get_city_review(api_key, Queries)\n",
    "city_dic"
   ]
  },
  {
   "cell_type": "code",
   "execution_count": null,
   "metadata": {
    "colab": {},
    "colab_type": "code",
    "id": "twMPTf74Hp_1"
   },
   "outputs": [],
   "source": [
    "#store the dictionary as a pickle file \n",
    "pickle_out = open(\"city_dic_all.pickle\",\"wb\")\n",
    "pickle.dump(city_dic, pickle_out)\n",
    "pickle_out.close()"
   ]
  },
  {
   "cell_type": "markdown",
   "metadata": {
    "colab_type": "text",
    "id": "4n3Dxp63FB_i"
   },
   "source": [
    "# Part 1: Transactions Analysis"
   ]
  },
  {
   "cell_type": "code",
   "execution_count": null,
   "metadata": {},
   "outputs": [],
   "source": [
    "pickle_in = open(\"city_dic_all.pickle\",\"rb\")\n",
    "example_dict = pickle.load(pickle_in)"
   ]
  },
  {
   "cell_type": "code",
   "execution_count": null,
   "metadata": {
    "colab": {},
    "colab_type": "code",
    "id": "aTp7K-WIGNQE"
   },
   "outputs": [],
   "source": [
    "#from google.colab import drive\n",
    "#drive.mount('/content/drive')\n",
    "#% cd \"/content/drive/My Drive/15688 Project\""
   ]
  },
  {
   "cell_type": "markdown",
   "metadata": {
    "colab_type": "text",
    "id": "B-sv89pOFB_j"
   },
   "source": [
    "According to Yelp, transactions are defined as the list of Yelp services that the business is registered for. Current supported values are pickup, delivery and restaurant_reservation.\n",
    "\n",
    "In this part, we inspect how transactions impact rating. Restaurants can support None or any combination of 3 types of transactions: pickup, delivery, and reservation. A new boolean variable is created to indicate whether or not each restaurant supports at least on transaction.\n",
    "\n"
   ]
  },
  {
   "cell_type": "code",
   "execution_count": null,
   "metadata": {
    "colab": {},
    "colab_type": "code",
    "id": "N02E02R3GNQQ"
   },
   "outputs": [],
   "source": [
    "#define the function to create a pandas df for transactions analysis\n",
    "def create_transactions_df(raw_dict):\n",
    "    Cities = list()\n",
    "    business = list()\n",
    "    transactions = list()\n",
    "    num_transactions = list()\n",
    "    ratings = list()\n",
    "    for city in example_dict:\n",
    "        for bid in example_dict[city]:\n",
    "            Cities.append(city)\n",
    "            business.append(bid)\n",
    "            transactions.append(int(len(example_dict[city][bid][\"transactions\"]) != 0))\n",
    "            num_transactions.append(int(len(example_dict[city][bid][\"transactions\"])))\n",
    "            ratings.append(example_dict[city][bid][\"rating\"])\n",
    "    df = pd.DataFrame()\n",
    "    df[\"City\"] = Cities\n",
    "    df[\"Business_ID\"] = business\n",
    "    df[\"Has Transaction\"] = transactions\n",
    "    df[\"Num Transactions\"] = num_transactions\n",
    "    df[\"Rating\"] = ratings\n",
    "    return df"
   ]
  },
  {
   "cell_type": "code",
   "execution_count": null,
   "metadata": {
    "colab": {},
    "colab_type": "code",
    "id": "Nlyl8ladGNQU"
   },
   "outputs": [],
   "source": [
    "transactions_df = create_transactions_df(example_dict)"
   ]
  },
  {
   "cell_type": "code",
   "execution_count": null,
   "metadata": {
    "colab": {},
    "colab_type": "code",
    "id": "KTv6iCcIGNQY"
   },
   "outputs": [],
   "source": [
    "# Define a function which utilizes plotly to create a pie chart for percentages of restaurants\n",
    "# with and without transactions for the input city\n",
    "def pie_chart_transactions(city):\n",
    "    keys = ['W/ Transactions', 'W/O Transactions']\n",
    "    values = [dict(transactions_df.loc[transactions_df[\"City\"] == city, \"Has Transaction\"].value_counts())[1], \n",
    "              dict(transactions_df.loc[transactions_df[\"City\"] == city, \"Has Transaction\"].value_counts())[0]]\n",
    "    fig = go.Figure(data=[go.Pie(labels=keys, \n",
    "                                 values=values, \n",
    "                                 marker=dict(colors=['#0000FF','#FF0000']))],\n",
    "                    layout=go.Layout(title=go.layout.Title(text=\"Percetange of Yelp Restaurants With and Without Transactions in \"\n",
    "                                                          + city),\n",
    "                                     width = 800, height = 400))\n",
    "    fig.show(renderer=\"notebook_connected\")"
   ]
  },
  {
   "cell_type": "code",
   "execution_count": null,
   "metadata": {
    "colab": {},
    "colab_type": "code",
    "id": "qOUWm5vrGNQa"
   },
   "outputs": [],
   "source": [
    "# Define a function to implement Ipython widgets for interaction of input city\n",
    "# in the pie chart defined above\n",
    "def unique_city_options(df):\n",
    "    unique_cities = sorted(list(set(list(df[\"City\"]))))\n",
    "    initial_city = sorted(list(set(list(df[\"City\"]))))[0]\n",
    "    city_options = widgets.Dropdown(options=unique_cities,\n",
    "                                value=initial_city,\n",
    "                                description='City: ')\n",
    "    return city_options"
   ]
  },
  {
   "cell_type": "code",
   "execution_count": null,
   "metadata": {
    "colab": {},
    "colab_type": "code",
    "id": "REXePN-yGNQd"
   },
   "outputs": [],
   "source": [
    "# Define a function which connects the pie chart with the interactive widget\n",
    "# to yield an interactive pie chart\n",
    "def visualize_city_transactions(col_options):\n",
    "    '''\n",
    "    Call interactive() function from ipywidgets to connect the pie chart with interactive drop down list of columns\n",
    "    col_options: an ipywidgets object of a drop down list of columns\n",
    "    '''\n",
    "    interactive_plot = interactive(pie_chart_transactions, city = col_options)\n",
    "    return interactive_plot"
   ]
  },
  {
   "cell_type": "code",
   "execution_count": null,
   "metadata": {
    "colab": {
     "base_uri": "https://localhost:8080/",
     "height": 449,
     "referenced_widgets": [
      "94b468181d6848dba362a97cb0eed7c7",
      "e99c853aa6664f88a8ad58b33feafc58",
      "14ba3748ef7b4e368593bd2722d2980b",
      "251d0c24036840f0bafc833bae5b2a92",
      "c8db7e0812ec4a199e3478411eaebf7e",
      "4d215b74260d4f1cb3a63b38fde343de",
      "20206b44455544489c48ae3b79d51ed7"
     ]
    },
    "colab_type": "code",
    "id": "xay9RZfnGNQf",
    "outputId": "732b5c92-b048-46b0-e6b1-a4606e6c9ed0"
   },
   "outputs": [],
   "source": [
    "#display(visualize_city_transactions(unique_city_options(transactions_df)))\n",
    "#this is interactive part"
   ]
  },
  {
   "cell_type": "code",
   "execution_count": null,
   "metadata": {},
   "outputs": [],
   "source": [
    "from IPython.display import Image\n",
    "Image(filename='Altanta.png') "
   ]
  },
  {
   "cell_type": "code",
   "execution_count": null,
   "metadata": {},
   "outputs": [],
   "source": [
    "Image(filename='Austin.png') "
   ]
  },
  {
   "cell_type": "markdown",
   "metadata": {
    "colab_type": "text",
    "id": "8kHcR4GtNd0M"
   },
   "source": [
    "This interactive pie chart displays the proportion of restaurants with and without transactions. Such percentage differs significantly across cities. For example, in Atlanta, 65.1% of restaurants picked offer transactions, whereas only 37.4% of restaurants picked do so in Austin.\n",
    "\n",
    "Next, we look at how mean ratings for restaurants vary based on the existence of transactions across cities. 2 lists are created to store the average ratings for restaurants with and without transactions in each city."
   ]
  },
  {
   "cell_type": "code",
   "execution_count": null,
   "metadata": {},
   "outputs": [],
   "source": [
    "# Define a function which creates a line chart of two lines:\n",
    "# one for average rating for restaurants with transactions across cities,\n",
    "# another for average rating for restaurants without transactions across cities\n",
    "def visualize_rating_by_transaction_chart(transactions_df):\n",
    "    cities = sorted(list(set(list(transactions_df[\"City\"]))))\n",
    "    x1 = [transactions_df.loc[(transactions_df[\"City\"] == i) & (transactions_df[\"Has Transaction\"] == 1), \"Rating\"].mean() for i in cities]\n",
    "    x0 = [transactions_df.loc[(transactions_df[\"City\"] == i) & (transactions_df[\"Has Transaction\"] == 0), \"Rating\"].mean() for i in cities]\n",
    "    fig = go.Figure()\n",
    "    fig.add_trace(go.Scatter(x=cities, y=x0, name = \"W/O Transactions\"))\n",
    "    fig.add_trace(go.Scatter(x=cities, y=x1, name = \"W Transactions\"))\n",
    "    fig.update_layout(\n",
    "        title=\"Mean Rating for Restaurants W/ and W/O Transactions\",\n",
    "        xaxis_title=\"City\",\n",
    "        yaxis_title=\"Mean Rating\")\n",
    "    fig.show()"
   ]
  },
  {
   "cell_type": "code",
   "execution_count": null,
   "metadata": {
    "colab": {},
    "colab_type": "code",
    "id": "WHEvx4-uGNQn"
   },
   "outputs": [],
   "source": [
    "#visualize_rating_by_transaction_chart(transactions_df)\n",
    "Image(filename='result.png') "
   ]
  },
  {
   "cell_type": "markdown",
   "metadata": {
    "colab_type": "text",
    "id": "EI3gzSeZNgeX"
   },
   "source": [
    "In this line chart, 7 out of 9 target cities have higher average ratings when businesses do not support any transactions. The largest gap exists for Houston, in which the mean rating for restaurants without transactions is about 0.2 higher than that for restaurants with transactions. \n",
    "\n",
    "## Key Takeaway for Part 1\n",
    "The result from the line chart above may be counter-intuitive at a first glance. It makes more sense that restaurants that offer more services would provide more convenience for customers and therefore have better ratings. However, the existence of additional services means that customer ratings are now depending on more aspects that may or may not be controllable by the restaurants. For example, if a restaurant offers delivery service, it may get low ratings because of delays and spills in third-party delivery services. "
   ]
  },
  {
   "cell_type": "markdown",
   "metadata": {
    "colab_type": "text",
    "id": "EJ6LqsNlFCAG"
   },
   "source": [
    "# Part 2: Price and Location Analysis\n",
    "\n",
    "We analyze the relationship between rating and price. We learned that rating is negatively correlated with price. After breaking down the price, we noticed the ratings are higher for both cheap food and luxury meals, while the rating for normal food is lower."
   ]
  },
  {
   "cell_type": "code",
   "execution_count": null,
   "metadata": {
    "colab": {},
    "colab_type": "code",
    "id": "LBxSI9OQFCAH"
   },
   "outputs": [],
   "source": [
    "def create_price_location_df(raw_dict):  \n",
    "    \"\"\"\n",
    "    raw_dict: with city as key of the dict\n",
    "    \"\"\"\n",
    "    res = []\n",
    "    for city in raw_dict:\n",
    "        all_business = raw_dict[city] # a dict containing all restaurants we can retrieve data in the city. \b\n",
    "        for business in all_business:\n",
    "            try:\n",
    "                tmp = all_business[business]\n",
    "                name = tmp['name']\n",
    "                price = tmp['price']\n",
    "                location = tmp['location']\n",
    "                rating = tmp['rating'] \n",
    "                review_count = tmp['review_count']\n",
    "                res.append([name,price,city,rating,review_count])\n",
    "            except:\n",
    "                pass\n",
    "    df = pd.DataFrame(res, columns=['name','price','city','rating','number of rating'])\n",
    "    df['price_ordinal'] = df['price'].apply(lambda x: len(x))\n",
    "    return df"
   ]
  },
  {
   "cell_type": "code",
   "execution_count": null,
   "metadata": {
    "colab": {},
    "colab_type": "code",
    "id": "6xOjRvxBFCAJ"
   },
   "outputs": [],
   "source": [
    "price_location_df = create_price_location_df(example_dict)"
   ]
  },
  {
   "cell_type": "code",
   "execution_count": null,
   "metadata": {
    "colab": {},
    "colab_type": "code",
    "id": "e_EMSfwxFCAM",
    "outputId": "a3c1bf93-b86f-46d3-93b1-d87bf753d262"
   },
   "outputs": [],
   "source": [
    "price_location_df.corr('spearman') # to calculate the ranking correlation for ordinal/numerical variables"
   ]
  },
  {
   "cell_type": "code",
   "execution_count": null,
   "metadata": {
    "colab": {},
    "colab_type": "code",
    "id": "ieKy0FekFCAP",
    "outputId": "62f85782-e3aa-4f45-edfb-cd09e069363c"
   },
   "outputs": [],
   "source": [
    "price_location_df.groupby(['price','city']).mean()['rating']"
   ]
  },
  {
   "cell_type": "code",
   "execution_count": null,
   "metadata": {
    "colab": {},
    "colab_type": "code",
    "id": "is0q4koKFCAR",
    "outputId": "02eb4fb3-ff67-4022-afd3-50e42768b09c"
   },
   "outputs": [],
   "source": [
    "price_location_df.groupby(['price']).mean()['rating']"
   ]
  },
  {
   "cell_type": "code",
   "execution_count": null,
   "metadata": {
    "colab": {},
    "colab_type": "code",
    "id": "xJlIuFkGFCAU",
    "outputId": "4bb573d2-05af-4941-b929-2da972aeae52"
   },
   "outputs": [],
   "source": [
    "price_location_df.groupby(['city']).describe()['rating']"
   ]
  },
  {
   "cell_type": "code",
   "execution_count": null,
   "metadata": {
    "colab": {},
    "colab_type": "code",
    "id": "8GCWCIQ0FCAW",
    "outputId": "5aa94ca4-0394-4c35-def3-c2e4f383be30"
   },
   "outputs": [],
   "source": [
    "price_location_df.groupby(['price_ordinal']).describe()['rating']"
   ]
  },
  {
   "cell_type": "code",
   "execution_count": null,
   "metadata": {
    "colab": {},
    "colab_type": "code",
    "id": "ZGA1g0TGFCAZ"
   },
   "outputs": [],
   "source": [
    "price_location_df['price'] = pd.Categorical(price_location_df['price'])\n",
    "price_location_df['city'] = pd.Categorical(price_location_df['city'])"
   ]
  },
  {
   "cell_type": "code",
   "execution_count": null,
   "metadata": {
    "colab": {},
    "colab_type": "code",
    "id": "yMLvuDGCFCAg",
    "outputId": "c26fff8c-b0f6-4daf-8c10-364dc6dfd82f"
   },
   "outputs": [],
   "source": [
    "FE_ols = smf.ols(formula='rating ~ 1  + C(price) + C(city)', data = price_location_df).fit()\n",
    "print(FE_ols.summary())"
   ]
  },
  {
   "cell_type": "markdown",
   "metadata": {
    "colab_type": "text",
    "id": "qoDWDFmoFCAk"
   },
   "source": [
    "### Part 2 Key Takeaway"
   ]
  },
  {
   "cell_type": "markdown",
   "metadata": {
    "colab_type": "text",
    "id": "lWN4I-q3FCAm"
   },
   "source": [
    "#### Correlation: \n",
    "\n",
    "(1) Rating and number of ratings is negatively correlated. <br>\n",
    "\n",
    "(2) Number of ratings and price is positively correlated."
   ]
  },
  {
   "cell_type": "markdown",
   "metadata": {
    "colab_type": "text",
    "id": "MzYu3losFCAn"
   },
   "source": [
    "#### Statistical Difference:\n",
    "\n",
    "(1) The ratings for price levels 2 and 3 are significantly lower than those of price levels 1 and 4.<br>\n",
    "\n",
    "(2) According to the coefficients and significance, we can infer that the order of ratings for restaurants in the 9 target cities is roughly as:\n",
    "\n",
    "New York > Chicago > Seattle > San Francisco > Miami > Austin > Houston > Boston $\\approx$ Atlanta"
   ]
  },
  {
   "cell_type": "markdown",
   "metadata": {
    "colab_type": "text",
    "id": "NSHbX1m1FCAo"
   },
   "source": [
    "# Part 3: Sentiment Analysis\n",
    "\n",
    "We perform sentiment analysis on the review. First, we use $textblob$ to calculate sentiment scores for each review. Then, we assign gender to users by utilizing name datasets with gender probability. We segment the users based on gender and analyze the gender bias on reviews and ratings. We noticed that while the sentiment scores on the review are similar between genders, female users are more subjective and tend to give a higher rating."
   ]
  },
  {
   "cell_type": "code",
   "execution_count": null,
   "metadata": {
    "colab": {},
    "colab_type": "code",
    "id": "5twO-9kGFCAo"
   },
   "outputs": [],
   "source": [
    "#extract useful information from raw dictionary\n",
    "def create_restaurants_list(raw_dict):    \n",
    "    restaurant_list = [] \n",
    "    for i in raw_dict:\n",
    "        for j in raw_dict[i]:\n",
    "            for z in raw_dict[i][j]['reviews']:\n",
    "                lst = []\n",
    "                lst.append(z['id'])\n",
    "                lst.append(z['user']['name'])\n",
    "                lst.append(z['text'])\n",
    "                lst.append(z['rating'])\n",
    "                lst.append(raw_dict[i][j]['id'])\n",
    "                lst.append(raw_dict[i][j]['name'])\n",
    "                lst.append(raw_dict[i][j]['review_count'])\n",
    "                lst.append(raw_dict[i][j]['rating'])\n",
    "                lst.append(i)\n",
    "                restaurant_list.append(lst)\n",
    "    return restaurant_list"
   ]
  },
  {
   "cell_type": "code",
   "execution_count": null,
   "metadata": {
    "colab": {},
    "colab_type": "code",
    "id": "r3v-rCqkFCAq"
   },
   "outputs": [],
   "source": [
    "#create dataframe\n",
    "restaurants_df = pd.DataFrame(create_restaurants_list(example_dict), columns = ['review_id','review_name','review_text','review_rating','restaurant_id','restaurant_name','review_count','rating','city'])"
   ]
  },
  {
   "cell_type": "code",
   "execution_count": null,
   "metadata": {
    "colab": {},
    "colab_type": "code",
    "id": "tpWb7MSqFCAt",
    "outputId": "7766222b-59a3-4843-82d9-880e23c07ded"
   },
   "outputs": [],
   "source": [
    "#import TextBlob\n",
    "from textblob import TextBlob\n",
    "TextBlob(restaurants_df['review_text'].values[0]).sentiment"
   ]
  },
  {
   "cell_type": "code",
   "execution_count": null,
   "metadata": {
    "colab": {},
    "colab_type": "code",
    "id": "D-MkvY93FCAw"
   },
   "outputs": [],
   "source": [
    "#use TextBlob to calculate polarity(sentiment score) and subjectivity\n",
    "#polarity is from -1 to 1, which is from negative to positive\n",
    "#subjectivity is from 0 to 1\n",
    "def analyze_polarity_subjectivity(df):\n",
    "    polarity_list=[]\n",
    "    subjectivity_list=[]\n",
    "    for i in range(len(df['review_text'].values)):\n",
    "        senti = TextBlob(df['review_text'].values[i]).sentiment\n",
    "        polarity_list.append(senti.polarity)\n",
    "        subjectivity_list.append(senti.subjectivity)\n",
    "    return polarity_list, subjectivity_list"
   ]
  },
  {
   "cell_type": "code",
   "execution_count": null,
   "metadata": {
    "colab": {},
    "colab_type": "code",
    "id": "rCxGQrpJFCAy"
   },
   "outputs": [],
   "source": [
    "polarity_list, subjectivity_list = analyze_polarity_subjectivity(restaurants_df)"
   ]
  },
  {
   "cell_type": "code",
   "execution_count": null,
   "metadata": {
    "colab": {},
    "colab_type": "code",
    "id": "uQbFmCYtFCA0",
    "outputId": "c63b20ff-d6e0-49c4-a5db-257a3226c6d8"
   },
   "outputs": [],
   "source": [
    "#add polarity and subjective as features to dataframe\n",
    "restaurants_df['polarity'] = polarity_list\n",
    "restaurants_df['subjectivity'] = subjectivity_list\n",
    "restaurants_df.head()"
   ]
  },
  {
   "cell_type": "code",
   "execution_count": null,
   "metadata": {
    "colab": {},
    "colab_type": "code",
    "id": "YZXJsKCEFCA2"
   },
   "outputs": [],
   "source": [
    "#read in male.txt and female.txt\n",
    "#the txt file has name with the probability of the gender \n",
    "def create_male_female_names_dict():\n",
    "    #male name\n",
    "    male_names={}\n",
    "    f = open(\"male.txt\", \"r\")\n",
    "    for i in f:\n",
    "        male_names[i.split()[0]] = i.split()[1]\n",
    "\n",
    "    #female name\n",
    "    female_names={}\n",
    "    f = open(\"female.txt\", \"r\")\n",
    "    for i in f:\n",
    "        female_names[i.split()[0]] = i.split()[1]\n",
    "    return male_names, female_names"
   ]
  },
  {
   "cell_type": "code",
   "execution_count": null,
   "metadata": {
    "colab": {},
    "colab_type": "code",
    "id": "69CJbI1EFCA4"
   },
   "outputs": [],
   "source": [
    "#assign gender based on the name, 0 means female, 1 means male\n",
    "#if a name is shared by both genders, we select the gender with higher probabilities\n",
    "def identify_customer_gender(df, male_names, female_names):\n",
    "    gender = []\n",
    "    for name in list(df['review_name']):\n",
    "        if (name.split()[0]).upper() in female_names and (name.split()[0]).upper() in male_names:\n",
    "            if female_names[(name.split()[0]).upper()]>male_names[(name.split()[0]).upper()]:\n",
    "                gender.append(0)\n",
    "            else:\n",
    "                gender.append(1)\n",
    "        elif (name.split()[0]).upper() in female_names:\n",
    "            gender.append(0)\n",
    "        elif (name.split()[0]).upper() in male_names:\n",
    "            gender.append(1)\n",
    "        else:\n",
    "            gender.append(None)\n",
    "    return gender"
   ]
  },
  {
   "cell_type": "code",
   "execution_count": null,
   "metadata": {
    "colab": {},
    "colab_type": "code",
    "id": "rqUWx-5rFCA6",
    "outputId": "fc2408f9-114c-430a-d8bd-2e36331360c7"
   },
   "outputs": [],
   "source": [
    "#add gender, the difference between review rating and restaurants rating, and the absolute value of the difference as features\n",
    "male_names, female_names = create_male_female_names_dict()\n",
    "gender = identify_customer_gender(restaurants_df, male_names, female_names)\n",
    "restaurants_df = restaurants_df.dropna()\n",
    "restaurants_df['gender'] = gender\n",
    "restaurants_df['diff'] = restaurants_df['review_rating']-restaurants_df['rating']\n",
    "restaurants_df['diff_abs'] = abs(restaurants_df['diff'])\n",
    "restaurants_df.head()"
   ]
  },
  {
   "cell_type": "code",
   "execution_count": null,
   "metadata": {
    "colab": {},
    "colab_type": "code",
    "id": "MVy2CWBoFCA_",
    "outputId": "a1ad8aa1-0f0b-46fa-b301-3cb08e6e5a11"
   },
   "outputs": [],
   "source": [
    "#group by gender and count\n",
    "restaurants_df.groupby('gender').count()"
   ]
  },
  {
   "cell_type": "markdown",
   "metadata": {
    "colab_type": "text",
    "id": "XRF68gugFSAk"
   },
   "source": [
    "We can notice that about 60% of the reviews are from female users."
   ]
  },
  {
   "cell_type": "code",
   "execution_count": null,
   "metadata": {
    "colab": {},
    "colab_type": "code",
    "id": "we80jSOTFCBB",
    "outputId": "132c54f8-dabb-43dd-b18e-134c4f1327a1"
   },
   "outputs": [],
   "source": [
    "#groupby gender and calculate the mean values\n",
    "restaurants_df.groupby('gender').mean()"
   ]
  },
  {
   "cell_type": "code",
   "execution_count": null,
   "metadata": {
    "colab": {},
    "colab_type": "code",
    "id": "NWr9-gcYFCBE"
   },
   "outputs": [],
   "source": [
    "#use t-test to find out whether the difference is significant or not\n",
    "data_male_rating = list(restaurants_df[restaurants_df['gender']==1]['review_rating'])\n",
    "data_female_rating = list(restaurants_df[restaurants_df['gender']==0]['review_rating'])\n",
    "data_male_polarity = list(restaurants_df[restaurants_df['gender']==1]['polarity'])\n",
    "data_female_polarity = list(restaurants_df[restaurants_df['gender']==0]['polarity'])\n",
    "data_male_subjectivity = list(restaurants_df[restaurants_df['gender']==1]['subjectivity'])\n",
    "data_female_subjectivity = list(restaurants_df[restaurants_df['gender']==0]['subjectivity'])"
   ]
  },
  {
   "cell_type": "code",
   "execution_count": null,
   "metadata": {
    "colab": {},
    "colab_type": "code",
    "id": "AAyl0fFJFCBG",
    "outputId": "335651af-d033-43ae-906d-074cce1005af"
   },
   "outputs": [],
   "source": [
    "stat, p = ttest_ind(data_male_rating, data_female_rating)\n",
    "print('t=%.3f, p=%.3f' % (stat, p))"
   ]
  },
  {
   "cell_type": "markdown",
   "metadata": {
    "colab_type": "text",
    "id": "V6bEVIKFFCBJ"
   },
   "source": [
    "rating: female>male<br>\n",
    "The difference is statistically significant."
   ]
  },
  {
   "cell_type": "code",
   "execution_count": null,
   "metadata": {
    "colab": {},
    "colab_type": "code",
    "id": "R0p5-tucFCBK",
    "outputId": "509b9cf5-4cee-4326-d309-ce3b5d169572"
   },
   "outputs": [],
   "source": [
    "stat, p = ttest_ind(data_male_polarity, data_female_polarity)\n",
    "print('t=%.3f, p=%.3f' % (stat, p))"
   ]
  },
  {
   "cell_type": "markdown",
   "metadata": {
    "colab_type": "text",
    "id": "7pU_T9TZFCBN"
   },
   "source": [
    "sentiment: the difference is not statistical significant."
   ]
  },
  {
   "cell_type": "code",
   "execution_count": null,
   "metadata": {
    "colab": {},
    "colab_type": "code",
    "id": "qd4_zpC7FCBO",
    "outputId": "37a75579-fced-4ba6-fd64-bbb1ddfd6592"
   },
   "outputs": [],
   "source": [
    "stat, p = ttest_ind(data_male_subjectivity, data_female_subjectivity)\n",
    "print('t=%.3f, p=%.3f' % (stat, p))"
   ]
  },
  {
   "cell_type": "markdown",
   "metadata": {
    "colab_type": "text",
    "id": "Buxzp_MFFCBR"
   },
   "source": [
    "subjectivity: female>male<br>\n",
    "The difference is statistically significant.  "
   ]
  },
  {
   "cell_type": "markdown",
   "metadata": {
    "colab_type": "text",
    "id": "YrFxYR9pFCBT"
   },
   "source": [
    "## Key Takeaway for Part 3\n",
    "\n",
    "The result shows that female users tend to give higher review rating than male users, even though their sentiment scores for review text are similar.<br>\n",
    "However, for review objectivity, it is statistically significant that female users are less objective than male users.<br>"
   ]
  },
  {
   "cell_type": "markdown",
   "metadata": {
    "colab_type": "text",
    "id": "JyglJC_DUu6X"
   },
   "source": [
    "# Conclusion and Next Steps\n",
    "\n",
    "In this project, we have implemented different tools to analyze the relationship between Yelp rating and other features inlcuding transactions, price, location, and review text. It helps to enrich our practical experience in working with various types of data and selecting reasonable tools to model relationships.<br>\n",
    "\n",
    "For the next steps, one approach can be taking in more attributes such as business detail data, transaction data and user data to get more insights about resturant industry.<br>\n",
    "Another approach can be including more geographical areas to have a better representation of restaurants across the U.S.<br>\n",
    "With respect to technologies used, we could apply more machine learning algorithms on the datasets to perform user segmentation, user behavior analysis and regressions."
   ]
  }
 ],
 "metadata": {
  "colab": {
   "collapsed_sections": [
    "lWN4I-q3FCAm",
    "MzYu3losFCAn"
   ],
   "name": "Final Project.ipynb",
   "provenance": []
  },
  "kernelspec": {
   "display_name": "Python 3",
   "language": "python",
   "name": "python3"
  },
  "language_info": {
   "codemirror_mode": {
    "name": "ipython",
    "version": 3
   },
   "file_extension": ".py",
   "mimetype": "text/x-python",
   "name": "python",
   "nbconvert_exporter": "python",
   "pygments_lexer": "ipython3",
   "version": "3.7.3"
  },
  "widgets": {
   "application/vnd.jupyter.widget-state+json": {
    "14ba3748ef7b4e368593bd2722d2980b": {
     "model_module": "@jupyter-widgets/controls",
     "model_name": "DropdownModel",
     "state": {
      "_dom_classes": [],
      "_model_module": "@jupyter-widgets/controls",
      "_model_module_version": "1.5.0",
      "_model_name": "DropdownModel",
      "_options_labels": [
       "Atlanta",
       "Austin",
       "Boston",
       "Chicago",
       "Houston",
       "Miami",
       "New York",
       "San Francisco",
       "Seattle"
      ],
      "_view_count": null,
      "_view_module": "@jupyter-widgets/controls",
      "_view_module_version": "1.5.0",
      "_view_name": "DropdownView",
      "description": "City: ",
      "description_tooltip": null,
      "disabled": false,
      "index": 6,
      "layout": "IPY_MODEL_4d215b74260d4f1cb3a63b38fde343de",
      "style": "IPY_MODEL_c8db7e0812ec4a199e3478411eaebf7e"
     }
    },
    "251d0c24036840f0bafc833bae5b2a92": {
     "model_module": "@jupyter-widgets/output",
     "model_name": "OutputModel",
     "state": {
      "_dom_classes": [],
      "_model_module": "@jupyter-widgets/output",
      "_model_module_version": "1.0.0",
      "_model_name": "OutputModel",
      "_view_count": null,
      "_view_module": "@jupyter-widgets/output",
      "_view_module_version": "1.0.0",
      "_view_name": "OutputView",
      "layout": "IPY_MODEL_bc8e3bebd34f4b679c350df9ac7868e0",
      "msg_id": "",
      "outputs": [
       {
        "metadata": {
         "tags": []
        },
        "output_type": "display_data",
        "text/html": "        <script type=\"text/javascript\">\n        window.PlotlyConfig = {MathJaxConfig: 'local'};\n        if (window.MathJax) {MathJax.Hub.Config({SVG: {font: \"STIX-Web\"}});}\n        if (typeof require !== 'undefined') {\n        require.undef(\"plotly\");\n        requirejs.config({\n            paths: {\n                'plotly': ['https://cdn.plot.ly/plotly-latest.min']\n            }\n        });\n        require(['plotly'], function(Plotly) {\n            window._Plotly = Plotly;\n        });\n        }\n        </script>\n        "
       },
       {
        "metadata": {
         "tags": []
        },
        "output_type": "display_data",
        "text/html": "<div>\n        \n        \n            <div id=\"703d61c3-004e-4617-b26d-873ef8b03208\" class=\"plotly-graph-div\" style=\"height:400px; width:800px;\"></div>\n            <script type=\"text/javascript\">\n                require([\"plotly\"], function(Plotly) {\n                    window.PLOTLYENV=window.PLOTLYENV || {};\n                    \n                if (document.getElementById(\"703d61c3-004e-4617-b26d-873ef8b03208\")) {\n                    Plotly.newPlot(\n                        '703d61c3-004e-4617-b26d-873ef8b03208',\n                        [{\"labels\": [\"W/ Transactions\", \"W/O Transactions\"], \"marker\": {\"colors\": [\"#0000FF\", \"#FF0000\"]}, \"type\": \"pie\", \"values\": [613, 387]}],\n                        {\"height\": 400, \"template\": {\"data\": {\"bar\": [{\"error_x\": {\"color\": \"#2a3f5f\"}, \"error_y\": {\"color\": \"#2a3f5f\"}, \"marker\": {\"line\": {\"color\": \"#E5ECF6\", \"width\": 0.5}}, \"type\": \"bar\"}], \"barpolar\": [{\"marker\": {\"line\": {\"color\": \"#E5ECF6\", \"width\": 0.5}}, \"type\": \"barpolar\"}], \"carpet\": [{\"aaxis\": {\"endlinecolor\": \"#2a3f5f\", \"gridcolor\": \"white\", \"linecolor\": \"white\", \"minorgridcolor\": \"white\", \"startlinecolor\": \"#2a3f5f\"}, \"baxis\": {\"endlinecolor\": \"#2a3f5f\", \"gridcolor\": \"white\", \"linecolor\": \"white\", \"minorgridcolor\": \"white\", \"startlinecolor\": \"#2a3f5f\"}, \"type\": \"carpet\"}], \"choropleth\": [{\"colorbar\": {\"outlinewidth\": 0, \"ticks\": \"\"}, \"type\": \"choropleth\"}], \"contour\": [{\"colorbar\": {\"outlinewidth\": 0, \"ticks\": \"\"}, \"colorscale\": [[0.0, \"#0d0887\"], [0.1111111111111111, \"#46039f\"], [0.2222222222222222, \"#7201a8\"], [0.3333333333333333, \"#9c179e\"], [0.4444444444444444, \"#bd3786\"], [0.5555555555555556, \"#d8576b\"], [0.6666666666666666, \"#ed7953\"], [0.7777777777777778, \"#fb9f3a\"], [0.8888888888888888, \"#fdca26\"], [1.0, \"#f0f921\"]], \"type\": \"contour\"}], \"contourcarpet\": [{\"colorbar\": {\"outlinewidth\": 0, \"ticks\": \"\"}, \"type\": \"contourcarpet\"}], \"heatmap\": [{\"colorbar\": {\"outlinewidth\": 0, \"ticks\": \"\"}, \"colorscale\": [[0.0, \"#0d0887\"], [0.1111111111111111, \"#46039f\"], [0.2222222222222222, \"#7201a8\"], [0.3333333333333333, \"#9c179e\"], [0.4444444444444444, \"#bd3786\"], [0.5555555555555556, \"#d8576b\"], [0.6666666666666666, \"#ed7953\"], [0.7777777777777778, \"#fb9f3a\"], [0.8888888888888888, \"#fdca26\"], [1.0, \"#f0f921\"]], \"type\": \"heatmap\"}], \"heatmapgl\": [{\"colorbar\": {\"outlinewidth\": 0, \"ticks\": \"\"}, \"colorscale\": [[0.0, \"#0d0887\"], [0.1111111111111111, \"#46039f\"], [0.2222222222222222, \"#7201a8\"], [0.3333333333333333, \"#9c179e\"], [0.4444444444444444, \"#bd3786\"], [0.5555555555555556, \"#d8576b\"], [0.6666666666666666, \"#ed7953\"], [0.7777777777777778, \"#fb9f3a\"], [0.8888888888888888, \"#fdca26\"], [1.0, \"#f0f921\"]], \"type\": \"heatmapgl\"}], \"histogram\": [{\"marker\": {\"colorbar\": {\"outlinewidth\": 0, \"ticks\": \"\"}}, \"type\": \"histogram\"}], \"histogram2d\": [{\"colorbar\": {\"outlinewidth\": 0, \"ticks\": \"\"}, \"colorscale\": [[0.0, \"#0d0887\"], [0.1111111111111111, \"#46039f\"], [0.2222222222222222, \"#7201a8\"], [0.3333333333333333, \"#9c179e\"], [0.4444444444444444, \"#bd3786\"], [0.5555555555555556, \"#d8576b\"], [0.6666666666666666, \"#ed7953\"], [0.7777777777777778, \"#fb9f3a\"], [0.8888888888888888, \"#fdca26\"], [1.0, \"#f0f921\"]], \"type\": \"histogram2d\"}], \"histogram2dcontour\": [{\"colorbar\": {\"outlinewidth\": 0, \"ticks\": \"\"}, \"colorscale\": [[0.0, \"#0d0887\"], [0.1111111111111111, \"#46039f\"], [0.2222222222222222, \"#7201a8\"], [0.3333333333333333, \"#9c179e\"], [0.4444444444444444, \"#bd3786\"], [0.5555555555555556, \"#d8576b\"], [0.6666666666666666, \"#ed7953\"], [0.7777777777777778, \"#fb9f3a\"], [0.8888888888888888, \"#fdca26\"], [1.0, \"#f0f921\"]], \"type\": \"histogram2dcontour\"}], \"mesh3d\": [{\"colorbar\": {\"outlinewidth\": 0, \"ticks\": \"\"}, \"type\": \"mesh3d\"}], \"parcoords\": [{\"line\": {\"colorbar\": {\"outlinewidth\": 0, \"ticks\": \"\"}}, \"type\": \"parcoords\"}], \"scatter\": [{\"marker\": {\"colorbar\": {\"outlinewidth\": 0, \"ticks\": \"\"}}, \"type\": \"scatter\"}], \"scatter3d\": [{\"line\": {\"colorbar\": {\"outlinewidth\": 0, \"ticks\": \"\"}}, \"marker\": {\"colorbar\": {\"outlinewidth\": 0, \"ticks\": \"\"}}, \"type\": \"scatter3d\"}], \"scattercarpet\": [{\"marker\": {\"colorbar\": {\"outlinewidth\": 0, \"ticks\": \"\"}}, \"type\": \"scattercarpet\"}], \"scattergeo\": [{\"marker\": {\"colorbar\": {\"outlinewidth\": 0, \"ticks\": \"\"}}, \"type\": \"scattergeo\"}], \"scattergl\": [{\"marker\": {\"colorbar\": {\"outlinewidth\": 0, \"ticks\": \"\"}}, \"type\": \"scattergl\"}], \"scattermapbox\": [{\"marker\": {\"colorbar\": {\"outlinewidth\": 0, \"ticks\": \"\"}}, \"type\": \"scattermapbox\"}], \"scatterpolar\": [{\"marker\": {\"colorbar\": {\"outlinewidth\": 0, \"ticks\": \"\"}}, \"type\": \"scatterpolar\"}], \"scatterpolargl\": [{\"marker\": {\"colorbar\": {\"outlinewidth\": 0, \"ticks\": \"\"}}, \"type\": \"scatterpolargl\"}], \"scatterternary\": [{\"marker\": {\"colorbar\": {\"outlinewidth\": 0, \"ticks\": \"\"}}, \"type\": \"scatterternary\"}], \"surface\": [{\"colorbar\": {\"outlinewidth\": 0, \"ticks\": \"\"}, \"colorscale\": [[0.0, \"#0d0887\"], [0.1111111111111111, \"#46039f\"], [0.2222222222222222, \"#7201a8\"], [0.3333333333333333, \"#9c179e\"], [0.4444444444444444, \"#bd3786\"], [0.5555555555555556, \"#d8576b\"], [0.6666666666666666, \"#ed7953\"], [0.7777777777777778, \"#fb9f3a\"], [0.8888888888888888, \"#fdca26\"], [1.0, \"#f0f921\"]], \"type\": \"surface\"}], \"table\": [{\"cells\": {\"fill\": {\"color\": \"#EBF0F8\"}, \"line\": {\"color\": \"white\"}}, \"header\": {\"fill\": {\"color\": \"#C8D4E3\"}, \"line\": {\"color\": \"white\"}}, \"type\": \"table\"}]}, \"layout\": {\"annotationdefaults\": {\"arrowcolor\": \"#2a3f5f\", \"arrowhead\": 0, \"arrowwidth\": 1}, \"colorscale\": {\"diverging\": [[0, \"#8e0152\"], [0.1, \"#c51b7d\"], [0.2, \"#de77ae\"], [0.3, \"#f1b6da\"], [0.4, \"#fde0ef\"], [0.5, \"#f7f7f7\"], [0.6, \"#e6f5d0\"], [0.7, \"#b8e186\"], [0.8, \"#7fbc41\"], [0.9, \"#4d9221\"], [1, \"#276419\"]], \"sequential\": [[0.0, \"#0d0887\"], [0.1111111111111111, \"#46039f\"], [0.2222222222222222, \"#7201a8\"], [0.3333333333333333, \"#9c179e\"], [0.4444444444444444, \"#bd3786\"], [0.5555555555555556, \"#d8576b\"], [0.6666666666666666, \"#ed7953\"], [0.7777777777777778, \"#fb9f3a\"], [0.8888888888888888, \"#fdca26\"], [1.0, \"#f0f921\"]], \"sequentialminus\": [[0.0, \"#0d0887\"], [0.1111111111111111, \"#46039f\"], [0.2222222222222222, \"#7201a8\"], [0.3333333333333333, \"#9c179e\"], [0.4444444444444444, \"#bd3786\"], [0.5555555555555556, \"#d8576b\"], [0.6666666666666666, \"#ed7953\"], [0.7777777777777778, \"#fb9f3a\"], [0.8888888888888888, \"#fdca26\"], [1.0, \"#f0f921\"]]}, \"colorway\": [\"#636efa\", \"#EF553B\", \"#00cc96\", \"#ab63fa\", \"#FFA15A\", \"#19d3f3\", \"#FF6692\", \"#B6E880\", \"#FF97FF\", \"#FECB52\"], \"font\": {\"color\": \"#2a3f5f\"}, \"geo\": {\"bgcolor\": \"white\", \"lakecolor\": \"white\", \"landcolor\": \"#E5ECF6\", \"showlakes\": true, \"showland\": true, \"subunitcolor\": \"white\"}, \"hoverlabel\": {\"align\": \"left\"}, \"hovermode\": \"closest\", \"mapbox\": {\"style\": \"light\"}, \"paper_bgcolor\": \"white\", \"plot_bgcolor\": \"#E5ECF6\", \"polar\": {\"angularaxis\": {\"gridcolor\": \"white\", \"linecolor\": \"white\", \"ticks\": \"\"}, \"bgcolor\": \"#E5ECF6\", \"radialaxis\": {\"gridcolor\": \"white\", \"linecolor\": \"white\", \"ticks\": \"\"}}, \"scene\": {\"xaxis\": {\"backgroundcolor\": \"#E5ECF6\", \"gridcolor\": \"white\", \"gridwidth\": 2, \"linecolor\": \"white\", \"showbackground\": true, \"ticks\": \"\", \"zerolinecolor\": \"white\"}, \"yaxis\": {\"backgroundcolor\": \"#E5ECF6\", \"gridcolor\": \"white\", \"gridwidth\": 2, \"linecolor\": \"white\", \"showbackground\": true, \"ticks\": \"\", \"zerolinecolor\": \"white\"}, \"zaxis\": {\"backgroundcolor\": \"#E5ECF6\", \"gridcolor\": \"white\", \"gridwidth\": 2, \"linecolor\": \"white\", \"showbackground\": true, \"ticks\": \"\", \"zerolinecolor\": \"white\"}}, \"shapedefaults\": {\"line\": {\"color\": \"#2a3f5f\"}}, \"ternary\": {\"aaxis\": {\"gridcolor\": \"white\", \"linecolor\": \"white\", \"ticks\": \"\"}, \"baxis\": {\"gridcolor\": \"white\", \"linecolor\": \"white\", \"ticks\": \"\"}, \"bgcolor\": \"#E5ECF6\", \"caxis\": {\"gridcolor\": \"white\", \"linecolor\": \"white\", \"ticks\": \"\"}}, \"title\": {\"x\": 0.05}, \"xaxis\": {\"automargin\": true, \"gridcolor\": \"white\", \"linecolor\": \"white\", \"ticks\": \"\", \"zerolinecolor\": \"white\", \"zerolinewidth\": 2}, \"yaxis\": {\"automargin\": true, \"gridcolor\": \"white\", \"linecolor\": \"white\", \"ticks\": \"\", \"zerolinecolor\": \"white\", \"zerolinewidth\": 2}}}, \"title\": {\"text\": \"Percetange of Yelp Restaurants With and Without Transactions in New York\"}, \"width\": 800},\n                        {\"responsive\": true}\n                    ).then(function(){\n                            \nvar gd = document.getElementById('703d61c3-004e-4617-b26d-873ef8b03208');\nvar x = new MutationObserver(function (mutations, observer) {{\n        var display = window.getComputedStyle(gd).display;\n        if (!display || display === 'none') {{\n            console.log([gd, 'removed!']);\n            Plotly.purge(gd);\n            observer.disconnect();\n        }}\n}});\n\n// Listen for the removal of the full notebook cells\nvar notebookContainer = gd.closest('#notebook-container');\nif (notebookContainer) {{\n    x.observe(notebookContainer, {childList: true});\n}}\n\n// Listen for the clearing of the current output cell\nvar outputEl = gd.closest('.output');\nif (outputEl) {{\n    x.observe(outputEl, {childList: true});\n}}\n\n                        })\n                };\n                });\n            </script>\n        </div>"
       }
      ]
     }
    },
    "4d215b74260d4f1cb3a63b38fde343de": {
     "model_module": "@jupyter-widgets/base",
     "model_name": "LayoutModel",
     "state": {
      "_model_module": "@jupyter-widgets/base",
      "_model_module_version": "1.2.0",
      "_model_name": "LayoutModel",
      "_view_count": null,
      "_view_module": "@jupyter-widgets/base",
      "_view_module_version": "1.2.0",
      "_view_name": "LayoutView",
      "align_content": null,
      "align_items": null,
      "align_self": null,
      "border": null,
      "bottom": null,
      "display": null,
      "flex": null,
      "flex_flow": null,
      "grid_area": null,
      "grid_auto_columns": null,
      "grid_auto_flow": null,
      "grid_auto_rows": null,
      "grid_column": null,
      "grid_gap": null,
      "grid_row": null,
      "grid_template_areas": null,
      "grid_template_columns": null,
      "grid_template_rows": null,
      "height": null,
      "justify_content": null,
      "justify_items": null,
      "left": null,
      "margin": null,
      "max_height": null,
      "max_width": null,
      "min_height": null,
      "min_width": null,
      "object_fit": null,
      "object_position": null,
      "order": null,
      "overflow": null,
      "overflow_x": null,
      "overflow_y": null,
      "padding": null,
      "right": null,
      "top": null,
      "visibility": null,
      "width": null
     }
    },
    "94b468181d6848dba362a97cb0eed7c7": {
     "model_module": "@jupyter-widgets/controls",
     "model_name": "VBoxModel",
     "state": {
      "_dom_classes": [
       "widget-interact"
      ],
      "_model_module": "@jupyter-widgets/controls",
      "_model_module_version": "1.5.0",
      "_model_name": "VBoxModel",
      "_view_count": null,
      "_view_module": "@jupyter-widgets/controls",
      "_view_module_version": "1.5.0",
      "_view_name": "VBoxView",
      "box_style": "",
      "children": [
       "IPY_MODEL_14ba3748ef7b4e368593bd2722d2980b",
       "IPY_MODEL_251d0c24036840f0bafc833bae5b2a92"
      ],
      "layout": "IPY_MODEL_e99c853aa6664f88a8ad58b33feafc58"
     }
    },
    "c8db7e0812ec4a199e3478411eaebf7e": {
     "model_module": "@jupyter-widgets/controls",
     "model_name": "DescriptionStyleModel",
     "state": {
      "_model_module": "@jupyter-widgets/controls",
      "_model_module_version": "1.5.0",
      "_model_name": "DescriptionStyleModel",
      "_view_count": null,
      "_view_module": "@jupyter-widgets/base",
      "_view_module_version": "1.2.0",
      "_view_name": "StyleView",
      "description_width": ""
     }
    },
    "e99c853aa6664f88a8ad58b33feafc58": {
     "model_module": "@jupyter-widgets/base",
     "model_name": "LayoutModel",
     "state": {
      "_model_module": "@jupyter-widgets/base",
      "_model_module_version": "1.2.0",
      "_model_name": "LayoutModel",
      "_view_count": null,
      "_view_module": "@jupyter-widgets/base",
      "_view_module_version": "1.2.0",
      "_view_name": "LayoutView",
      "align_content": null,
      "align_items": null,
      "align_self": null,
      "border": null,
      "bottom": null,
      "display": null,
      "flex": null,
      "flex_flow": null,
      "grid_area": null,
      "grid_auto_columns": null,
      "grid_auto_flow": null,
      "grid_auto_rows": null,
      "grid_column": null,
      "grid_gap": null,
      "grid_row": null,
      "grid_template_areas": null,
      "grid_template_columns": null,
      "grid_template_rows": null,
      "height": null,
      "justify_content": null,
      "justify_items": null,
      "left": null,
      "margin": null,
      "max_height": null,
      "max_width": null,
      "min_height": null,
      "min_width": null,
      "object_fit": null,
      "object_position": null,
      "order": null,
      "overflow": null,
      "overflow_x": null,
      "overflow_y": null,
      "padding": null,
      "right": null,
      "top": null,
      "visibility": null,
      "width": null
     }
    }
   }
  }
 },
 "nbformat": 4,
 "nbformat_minor": 1
}
