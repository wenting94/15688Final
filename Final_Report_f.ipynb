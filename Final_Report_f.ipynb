{
 "cells": [
  {
   "cell_type": "markdown",
   "metadata": {},
   "source": [
    "# **15688 Final Project: Yelp Rating Analysis**\n",
    "\n",
    "**Authors**:<br> \n",
    "Jiahui Cai<br>\n",
    "Yingtian Zhu<br>\n",
    "Wenting Zhao"
   ]
  },
  {
   "cell_type": "markdown",
   "metadata": {},
   "source": [
    "# Problem Statement\n",
    "When thinking about Yelp rating, what immediately props out is the five-star image partially filled with customer input scoring. Given that there are many other types of information available such as business features and characteristics of reviews, a question is raised: is rating a standalone metric, or does it have a relationship with the other information?\n",
    "\n",
    "This project implements a comprehensive analysis of Yelp restaurant ratings on what business features and how the characteristics of reviews impact rating.\n",
    "\n",
    "# Motivation\n",
    "We want to analyze the Yelp business data and review data to get more insights about the relationship between reviews and different factors, such as transctions, price. We also want to know does different gender groups have bias on reviews and ratings.\n",
    "\n",
    "From the data perspective, in order to address the question raised, we need to work with different types of data: ratings are numerical, business metrics such as transactions and price range are categorical, whereas reviews are unstructured text. From the project and learning perspective, dealing with various types of data requires us to first select the appropriate tools and then reason our findings from different types of outcomes. As a high-level overview, we will be using API data extraction, visualization, categorical regression, and sentiment analysis.\n",
    "\n",
    "\n",
    "#Data\n",
    "We obtain business details and reviews from Yelp API. \n",
    "#### What to select: \n",
    "To collect a dataset of reasonable size while capturing geographical variance, we randomly pick 1000 restaurants for each of 9 metropolitan cities across the U.S. The cities selected are: New York, Boston, Chicago, Houston, Austin, San Francisco, Seattle, Atlanta, and Miami\n",
    "\n",
    "#### How to obtain: \n",
    "**Source**: Yelp API<br>\n",
    "**Step 1**: Obtain business details from https://api.yelp.com/v3/businesses/search, with city as selection criteria<br>\n",
    "**Step 2**: Obtain business reviews from \"https://api.yelp.com/v3/businesses/{id}/reviews\"<br>\n",
    ".\n"
   ]
  },
  {
   "cell_type": "markdown",
   "metadata": {},
   "source": [
    "# import libraries"
   ]
  },
  {
   "cell_type": "code",
   "execution_count": 1,
   "metadata": {},
   "outputs": [],
   "source": [
    "import io, time, json\n",
    "import requests\n",
    "from pathlib import Path\n",
    "import tqdm\n",
    "from tqdm import tqdm\n",
    "import pandas as pd \n",
    "import numpy as np \n",
    "pd.set_option('display.max_colwidth', 200)\n",
    "import re\n",
    "import pickle\n",
    "import nltk\n",
    "import plotly.graph_objects as go\n",
    "import ipywidgets as widgets\n",
    "from ipywidgets import interactive\n",
    "import matplotlib.pyplot as plt\n",
    "%matplotlib inline\n",
    "from IPython.display import display\n",
    "from sklearn import datasets, linear_model\n",
    "from sklearn.linear_model import LinearRegression\n",
    "import statsmodels.api as sm\n",
    "from scipy import stats\n",
    "from scipy.stats import ttest_ind\n",
    "import statsmodels.formula.api as smf"
   ]
  },
  {
   "cell_type": "markdown",
   "metadata": {},
   "source": [
    "# Query Yelp API for Data"
   ]
  },
  {
   "cell_type": "code",
   "execution_count": null,
   "metadata": {},
   "outputs": [],
   "source": [
    "#define functions to get business data from Yelp Api\n",
    "def read_api_key():\n",
    "    \"\"\"\n",
    "    Read the Yelp API Key from file.\n",
    "    \"\"\"\n",
    "    api_key = \"pJUWxhOboVgcg6Ja8fN218nQXc6nLyTLPCIRkOEuZZT9_fTyfbhy6H9DBLYASUitrryZG5kwPCKzHmAvgmQUFP1-RwxQbLDW-N-zdCvSdcm1OVu6O5VZpMbIxpdqXXYx\"\n",
    "    return api_key\n",
    "\n",
    "def yelp_search(api_key, query):\n",
    "    \"\"\"\n",
    "    Make an authenticated request to the Yelp API.\n",
    "    \"\"\"\n",
    "    headers = {'Authorization':'Bearer {}'.format(api_key)}\n",
    "    url = 'https://api.yelp.com/v3/businesses/search'\n",
    "    print(\"yelp_search query:\", query)\n",
    "    params = {'location':query}\n",
    "    r = requests.get(url, params=params, headers=headers)\n",
    "    r_json = json.loads(r.content)\n",
    "    return r_json['total'], r_json['businesses'] \n",
    "\n",
    "def all_restaurants(api_key, query):\n",
    "    \"\"\"\n",
    "    Retrieve ALL the restaurants on Yelp for a given query.\n",
    "    \"\"\"\n",
    "    headers = {'Authorization':'Bearer {}'.format(api_key)}\n",
    "    url = 'https://api.yelp.com/v3/businesses/search'\n",
    "    params = {'location':query,'categories':'restaurants'}\n",
    "    r = requests.get(url, params=params, headers=headers)\n",
    "    print(\"allrestaurantsquery: \", query, \"r: \",r)\n",
    "    data = json.loads(r.content)\n",
    "    print(data)\n",
    "    total = data['total']\n",
    "    res = data['businesses'] \n",
    "    while len(res) < total:\n",
    "        print(len(res),total)\n",
    "        params = {'categories':'restaurants','location':query,'offset':len(res)}\n",
    "        r = requests.get(url, params=params, headers=headers)\n",
    "        data = json.loads(r.content)\n",
    "        try:\n",
    "            res.extend(data['businesses'])\n",
    "        except:\n",
    "            print(data)\n",
    "            break\n",
    "        time.sleep(0.3)\n",
    "    return res\n",
    "\n",
    "def parse_api_response(data):\n",
    "    \"\"\"\n",
    "    Parse Yelp API results to create business dictionary\n",
    "    \"\"\"\n",
    "    \n",
    "    business_dic= {}\n",
    "    for i in data:\n",
    "        business_dic[i['id']] = i\n",
    "    return business_dic\n"
   ]
  },
  {
   "cell_type": "code",
   "execution_count": null,
   "metadata": {},
   "outputs": [],
   "source": [
    "api_key = read_api_key()\n",
    "#define 9 major cities in US\n",
    "Queries = ['New York', 'Boston', 'Chicago', 'Houston','Austin', 'San Francisco', 'Seattle', 'Atlanta','Miami']\n",
    "#define functions to get business reviews from Yelp Api\n",
    "\n",
    "def get_review(api_key,business_id):\n",
    "    \"\"\"\n",
    "    get reviews from yelp api\n",
    "    \"\"\"\n",
    "    headers = {'Authorization':'Bearer {}'.format(api_key)}\n",
    "    url = \"https://api.yelp.com/v3/businesses/{}/reviews\".format(business_id)\n",
    "    r = requests.get(url, headers=headers)\n",
    "    r_json = json.loads(r.content)\n",
    "    try:\n",
    "        tmp = r_json['reviews']\n",
    "        return tmp \n",
    "    except:\n",
    "        return []\n",
    "    \n",
    "def all_reviews(api_key, business_dict):\n",
    "    \"\"\"\n",
    "    add reviews as elements in business dict \n",
    "    \"\"\"\n",
    "    for id in business_dict:\n",
    "        business_dict[id]['reviews'] = get_review(api_key,id)\n",
    "    return business_dict\n",
    "\n",
    "def get_city_review(api_key,city_list):\n",
    "    \"\"\"\n",
    "    loop through the city list and create a city dic, city as key, and all the restaurants info as value\n",
    "    \"\"\"\n",
    "    city_dic={}\n",
    "    for city in city_list:\n",
    "        business = all_restaurants(api_key,city)\n",
    "        business_dic = parse_api_response(business)\n",
    "        city_dic[city] = all_reviews(api_key,business_dic)\n",
    "    return city_dic\n",
    "\n",
    "city_dic = get_city_review(api_key, Queries)\n",
    "city_dic"
   ]
  },
  {
   "cell_type": "code",
   "execution_count": null,
   "metadata": {},
   "outputs": [],
   "source": [
    "#store the dictionary as a pickle file \n",
    "pickle_out = open(\"city_dic_all.pickle\",\"wb\")\n",
    "pickle.dump(city_dic, pickle_out)\n",
    "pickle_out.close()"
   ]
  },
  {
   "cell_type": "markdown",
   "metadata": {},
   "source": [
    "# Part 1: Transactions Analysis"
   ]
  },
  {
   "cell_type": "code",
   "execution_count": 3,
   "metadata": {},
   "outputs": [],
   "source": [
    "pickle_in = open(\"city_dic_all.pickle\",\"rb\")\n",
    "example_dict = pickle.load(pickle_in)"
   ]
  },
  {
   "cell_type": "markdown",
   "metadata": {},
   "source": [
    "According to Yelp, transactions are defined as the list of Yelp services that the business is registered for. Current supported values are pickup, delivery and restaurant_reservation.\n",
    "\n",
    "In this part, we inspect how transactions impact rating. Restaurants can support None or any combination of 3 types of transactions: pickup, delivery, and reservation. A new boolean variable is created to indicate whether or not each restaurant supports at least on transaction.\n"
   ]
  },
  {
   "cell_type": "code",
   "execution_count": 4,
   "metadata": {},
   "outputs": [],
   "source": [
    "#define the function to create a pandas df for transactions analysis\n",
    "def create_transactions_df(raw_dict):\n",
    "    Cities = list()\n",
    "    business = list()\n",
    "    transactions = list()\n",
    "    num_transactions = list()\n",
    "    ratings = list()\n",
    "    for city in example_dict:\n",
    "        for bid in example_dict[city]:\n",
    "            Cities.append(city)\n",
    "            business.append(bid)\n",
    "            transactions.append(int(len(example_dict[city][bid][\"transactions\"]) != 0))\n",
    "            num_transactions.append(int(len(example_dict[city][bid][\"transactions\"])))\n",
    "            ratings.append(example_dict[city][bid][\"rating\"])\n",
    "    df = pd.DataFrame()\n",
    "    df[\"City\"] = Cities\n",
    "    df[\"Business_ID\"] = business\n",
    "    df[\"Has Transaction\"] = transactions\n",
    "    df[\"Num Transactions\"] = num_transactions\n",
    "    df[\"Rating\"] = ratings\n",
    "    return df"
   ]
  },
  {
   "cell_type": "code",
   "execution_count": 5,
   "metadata": {},
   "outputs": [],
   "source": [
    "transactions_df = create_transactions_df(example_dict)"
   ]
  },
  {
   "cell_type": "code",
   "execution_count": 6,
   "metadata": {},
   "outputs": [],
   "source": [
    "# Define a function which utilizes plotly to create a pie chart for percentages of restaurants\n",
    "# with and without transactions for the input city\n",
    "def pie_chart_transactions(city):\n",
    "    keys = ['W/ Transactions', 'W/O Transactions']\n",
    "    values = [dict(transactions_df.loc[transactions_df[\"City\"] == city, \"Has Transaction\"].value_counts())[1], \n",
    "              dict(transactions_df.loc[transactions_df[\"City\"] == city, \"Has Transaction\"].value_counts())[0]]\n",
    "    fig = go.Figure(data=[go.Pie(labels=keys, \n",
    "                                 values=values, \n",
    "                                 marker=dict(colors=['#0000FF','#FF0000']))],\n",
    "                    layout=go.Layout(title=go.layout.Title(text=\"Percetange of Yelp Restaurants With and Without Transactions in \"\n",
    "                                                          + city),\n",
    "                                     width = 800, height = 400))\n",
    "    fig.show(renderer=\"notebook_connected\")"
   ]
  },
  {
   "cell_type": "code",
   "execution_count": 7,
   "metadata": {},
   "outputs": [],
   "source": [
    "# Define a function to implement Ipython widgets for interaction of input city\n",
    "# in the pie chart defined above\n",
    "def unique_city_options(df):\n",
    "    unique_cities = sorted(list(set(list(df[\"City\"]))))\n",
    "    initial_city = sorted(list(set(list(df[\"City\"]))))[0]\n",
    "    city_options = widgets.Dropdown(options=unique_cities,\n",
    "                                value=initial_city,\n",
    "                                description='City: ')\n",
    "    return city_options"
   ]
  },
  {
   "cell_type": "code",
   "execution_count": 8,
   "metadata": {},
   "outputs": [],
   "source": [
    "# Define a function which connects the pie chart with the interactive widget\n",
    "# to yield an interactive pie chart\n",
    "def visualize_city_transactions(col_options):\n",
    "    '''\n",
    "    Call interactive() function from ipywidgets to connect the pie chart with interactive drop down list of columns\n",
    "    col_options: an ipywidgets object of a drop down list of columns\n",
    "    '''\n",
    "    interactive_plot = interactive(pie_chart_transactions, city = col_options)\n",
    "    return interactive_plot"
   ]
  },
  {
   "cell_type": "code",
   "execution_count": 9,
   "metadata": {},
   "outputs": [],
   "source": [
    "#display(visualize_city_transactions(unique_city_options(transactions_df)))\n",
    "#this is interactive part"
   ]
  },
  {
   "cell_type": "code",
   "execution_count": 12,
   "metadata": {},
   "outputs": [
    {
     "data": {
      "image/png": "[encoded data removed]",
      "text/plain": [
       "<IPython.core.display.Image object>"
      ]
     },
     "execution_count": 12,
     "metadata": {},
     "output_type": "execute_result"
    }
   ],
   "source": [
    "from IPython.display import Image\n",
    "Image(filename='Altanta.png') "
   ]
  },
  {
   "cell_type": "code",
   "execution_count": 13,
   "metadata": {},
   "outputs": [
    {
     "data": {
      "image/png": "[encoded data removed]",
      "text/plain": [
       "<IPython.core.display.Image object>"
      ]
     },
     "execution_count": 13,
     "metadata": {},
     "output_type": "execute_result"
    }
   ],
   "source": [
    "Image(filename='Austin.png') "
   ]
  },
  {
   "cell_type": "markdown",
   "metadata": {},
   "source": [
    "This interactive pie chart displays the proportion of restaurants with and without transactions. Such percentage differs significantly across cities. For example, in Atlanta, 65.1% of restaurants picked offer transactions, whereas only 37.4% of restaurants picked do so in Austin.\n",
    "\n",
    "Next, we look at how mean ratings for restaurants vary based on the existence of transactions across cities. 2 lists are created to store the average ratings for restaurants with and without transactions in each city."
   ]
  },
  {
   "cell_type": "code",
   "execution_count": 14,
   "metadata": {},
   "outputs": [],
   "source": [
    "# Define a function which creates a line chart of two lines:\n",
    "# one for average rating for restaurants with transactions across cities,\n",
    "# another for average rating for restaurants without transactions across cities\n",
    "def visualize_rating_by_transaction_chart(transactions_df):\n",
    "    cities = sorted(list(set(list(transactions_df[\"City\"]))))\n",
    "    x1 = [transactions_df.loc[(transactions_df[\"City\"] == i) & (transactions_df[\"Has Transaction\"] == 1), \"Rating\"].mean() for i in cities]\n",
    "    x0 = [transactions_df.loc[(transactions_df[\"City\"] == i) & (transactions_df[\"Has Transaction\"] == 0), \"Rating\"].mean() for i in cities]\n",
    "    fig = go.Figure()\n",
    "    fig.add_trace(go.Scatter(x=cities, y=x0, name = \"W/O Transactions\"))\n",
    "    fig.add_trace(go.Scatter(x=cities, y=x1, name = \"W Transactions\"))\n",
    "    fig.update_layout(\n",
    "        title=\"Mean Rating for Restaurants W/ and W/O Transactions\",\n",
    "        xaxis_title=\"City\",\n",
    "        yaxis_title=\"Mean Rating\")\n",
    "    fig.show()"
   ]
  },
  {
   "cell_type": "code",
   "execution_count": 15,
   "metadata": {},
   "outputs": [
    {
     "data": {
      "image/png": "[encoded data removed]",
      "text/plain": [
       "<IPython.core.display.Image object>"
      ]
     },
     "execution_count": 15,
     "metadata": {},
     "output_type": "execute_result"
    }
   ],
   "source": [
    "#visualize_rating_by_transaction_chart(transactions_df)\n",
    "Image(filename='result.png') "
   ]
  },
  {
   "cell_type": "markdown",
   "metadata": {},
   "source": [
    "In this line chart, 7 out of 9 target cities have higher average ratings when businesses do not support any transactions. The largest gap exists for Houston, in which the mean rating for restaurants without transactions is about 0.2 higher than that for restaurants with transactions. \n",
    "\n",
    "## Key Takeaway for Part 1\n",
    "The result from the line chart above may be counter-intuitive at a first glance. It makes more sense that restaurants that offer more services would provide more convenience for customers and therefore have better ratings. However, the existence of additional services means that customer ratings are now depending on more aspects that may or may not be controllable by the restaurants. For example, if a restaurant offers delivery service, it may get low ratings because of delays and spills in third-party delivery services. "
   ]
  },
  {
   "cell_type": "markdown",
   "metadata": {},
   "source": [
    "# Part 2: Price and Location Analysis\n",
    "\n",
    "We analyze the relationship between rating and price. We learned that rating is negatively correlated with price. After breaking down the price, we noticed the ratings are higher for both cheap food and luxury meals, while the rating for normal food is lower."
   ]
  },
  {
   "cell_type": "code",
   "execution_count": 16,
   "metadata": {},
   "outputs": [],
   "source": [
    "def create_price_location_df(raw_dict):  \n",
    "    \"\"\"\n",
    "    raw_dict: with city as key of the dict\n",
    "    \"\"\"\n",
    "    res = []\n",
    "    for city in raw_dict:\n",
    "        all_business = raw_dict[city] # a dict containing all restaurants we can retrieve data in the city. \b\n",
    "        for business in all_business:\n",
    "            try:\n",
    "                tmp = all_business[business]\n",
    "                name = tmp['name']\n",
    "                price = tmp['price']\n",
    "                location = tmp['location']\n",
    "                rating = tmp['rating'] \n",
    "                review_count = tmp['review_count']\n",
    "                res.append([name,price,city,rating,review_count])\n",
    "            except:\n",
    "                pass\n",
    "    df = pd.DataFrame(res, columns=['name','price','city','rating','number of rating'])\n",
    "    df['price_ordinal'] = df['price'].apply(lambda x: len(x))\n",
    "    return df"
   ]
  },
  {
   "cell_type": "code",
   "execution_count": 17,
   "metadata": {},
   "outputs": [],
   "source": [
    "price_location_df = create_price_location_df(example_dict)"
   ]
  },
  {
   "cell_type": "code",
   "execution_count": 18,
   "metadata": {},
   "outputs": [
    {
     "data": {
      "text/html": [
       "<div>\n",
       "<style scoped>\n",
       "    .dataframe tbody tr th:only-of-type {\n",
       "        vertical-align: middle;\n",
       "    }\n",
       "\n",
       "    .dataframe tbody tr th {\n",
       "        vertical-align: top;\n",
       "    }\n",
       "\n",
       "    .dataframe thead th {\n",
       "        text-align: right;\n",
       "    }\n",
       "</style>\n",
       "<table border=\"1\" class=\"dataframe\">\n",
       "  <thead>\n",
       "    <tr style=\"text-align: right;\">\n",
       "      <th></th>\n",
       "      <th>rating</th>\n",
       "      <th>number of rating</th>\n",
       "      <th>price_ordinal</th>\n",
       "    </tr>\n",
       "  </thead>\n",
       "  <tbody>\n",
       "    <tr>\n",
       "      <th>rating</th>\n",
       "      <td>1.000000</td>\n",
       "      <td>-0.167017</td>\n",
       "      <td>-0.120244</td>\n",
       "    </tr>\n",
       "    <tr>\n",
       "      <th>number of rating</th>\n",
       "      <td>-0.167017</td>\n",
       "      <td>1.000000</td>\n",
       "      <td>0.274609</td>\n",
       "    </tr>\n",
       "    <tr>\n",
       "      <th>price_ordinal</th>\n",
       "      <td>-0.120244</td>\n",
       "      <td>0.274609</td>\n",
       "      <td>1.000000</td>\n",
       "    </tr>\n",
       "  </tbody>\n",
       "</table>\n",
       "</div>"
      ],
      "text/plain": [
       "                    rating  number of rating  price_ordinal\n",
       "rating            1.000000         -0.167017      -0.120244\n",
       "number of rating -0.167017          1.000000       0.274609\n",
       "price_ordinal    -0.120244          0.274609       1.000000"
      ]
     },
     "execution_count": 18,
     "metadata": {},
     "output_type": "execute_result"
    }
   ],
   "source": [
    "price_location_df.corr('spearman') # to calculate the ranking correlation for ordinal/numerical variables"
   ]
  },
  {
   "cell_type": "code",
   "execution_count": 19,
   "metadata": {},
   "outputs": [
    {
     "data": {
      "text/plain": [
       "price  city         \n",
       "$      Atlanta          4.000000\n",
       "       Austin           4.139946\n",
       "       Boston           4.044393\n",
       "       Chicago          4.252747\n",
       "       Houston          4.089069\n",
       "       Miami            4.166667\n",
       "       New York         4.221739\n",
       "       San Francisco    4.163793\n",
       "       Seattle          4.197095\n",
       "$$     Atlanta          3.834278\n",
       "       Austin           3.956960\n",
       "       Boston           3.825980\n",
       "       Chicago          4.055556\n",
       "       Houston          3.897535\n",
       "       Miami            4.028369\n",
       "       New York         4.093844\n",
       "       San Francisco    4.034039\n",
       "       Seattle          4.028889\n",
       "$$$    Atlanta          3.866197\n",
       "       Austin           4.132075\n",
       "       Boston           3.847328\n",
       "       Chicago          4.056522\n",
       "       Houston          3.927632\n",
       "       Miami            3.938462\n",
       "       New York         4.085366\n",
       "       San Francisco    3.969925\n",
       "       Seattle          4.000000\n",
       "$$$$   Atlanta          4.111111\n",
       "       Austin           4.250000\n",
       "       Boston           4.068182\n",
       "       Chicago          4.166667\n",
       "       Houston          3.937500\n",
       "       Miami            3.888889\n",
       "       New York         4.188679\n",
       "       San Francisco    4.266667\n",
       "       Seattle          4.178571\n",
       "Name: rating, dtype: float64"
      ]
     },
     "execution_count": 19,
     "metadata": {},
     "output_type": "execute_result"
    }
   ],
   "source": [
    "price_location_df.groupby(['price','city']).mean()['rating']"
   ]
  },
  {
   "cell_type": "code",
   "execution_count": 20,
   "metadata": {},
   "outputs": [
    {
     "data": {
      "text/plain": [
       "price\n",
       "$       4.135892\n",
       "$$      3.974300\n",
       "$$$     3.982245\n",
       "$$$$    4.155556\n",
       "Name: rating, dtype: float64"
      ]
     },
     "execution_count": 20,
     "metadata": {},
     "output_type": "execute_result"
    }
   ],
   "source": [
    "price_location_df.groupby(['price']).mean()['rating']"
   ]
  },
  {
   "cell_type": "code",
   "execution_count": 21,
   "metadata": {},
   "outputs": [
    {
     "data": {
      "text/html": [
       "<div>\n",
       "<style scoped>\n",
       "    .dataframe tbody tr th:only-of-type {\n",
       "        vertical-align: middle;\n",
       "    }\n",
       "\n",
       "    .dataframe tbody tr th {\n",
       "        vertical-align: top;\n",
       "    }\n",
       "\n",
       "    .dataframe thead th {\n",
       "        text-align: right;\n",
       "    }\n",
       "</style>\n",
       "<table border=\"1\" class=\"dataframe\">\n",
       "  <thead>\n",
       "    <tr style=\"text-align: right;\">\n",
       "      <th></th>\n",
       "      <th>count</th>\n",
       "      <th>mean</th>\n",
       "      <th>std</th>\n",
       "      <th>min</th>\n",
       "      <th>25%</th>\n",
       "      <th>50%</th>\n",
       "      <th>75%</th>\n",
       "      <th>max</th>\n",
       "    </tr>\n",
       "    <tr>\n",
       "      <th>city</th>\n",
       "      <th></th>\n",
       "      <th></th>\n",
       "      <th></th>\n",
       "      <th></th>\n",
       "      <th></th>\n",
       "      <th></th>\n",
       "      <th></th>\n",
       "      <th></th>\n",
       "    </tr>\n",
       "  </thead>\n",
       "  <tbody>\n",
       "    <tr>\n",
       "      <th>Atlanta</th>\n",
       "      <td>984.0</td>\n",
       "      <td>3.872459</td>\n",
       "      <td>0.411240</td>\n",
       "      <td>2.5</td>\n",
       "      <td>3.5</td>\n",
       "      <td>4.0</td>\n",
       "      <td>4.0</td>\n",
       "      <td>5.0</td>\n",
       "    </tr>\n",
       "    <tr>\n",
       "      <th>Austin</th>\n",
       "      <td>975.0</td>\n",
       "      <td>4.037949</td>\n",
       "      <td>0.423993</td>\n",
       "      <td>2.5</td>\n",
       "      <td>4.0</td>\n",
       "      <td>4.0</td>\n",
       "      <td>4.5</td>\n",
       "      <td>5.0</td>\n",
       "    </tr>\n",
       "    <tr>\n",
       "      <th>Boston</th>\n",
       "      <td>979.0</td>\n",
       "      <td>3.882022</td>\n",
       "      <td>0.415231</td>\n",
       "      <td>2.5</td>\n",
       "      <td>3.5</td>\n",
       "      <td>4.0</td>\n",
       "      <td>4.0</td>\n",
       "      <td>5.0</td>\n",
       "    </tr>\n",
       "    <tr>\n",
       "      <th>Chicago</th>\n",
       "      <td>999.0</td>\n",
       "      <td>4.094595</td>\n",
       "      <td>0.325612</td>\n",
       "      <td>3.0</td>\n",
       "      <td>4.0</td>\n",
       "      <td>4.0</td>\n",
       "      <td>4.5</td>\n",
       "      <td>5.0</td>\n",
       "    </tr>\n",
       "    <tr>\n",
       "      <th>Houston</th>\n",
       "      <td>980.0</td>\n",
       "      <td>3.948469</td>\n",
       "      <td>0.424779</td>\n",
       "      <td>2.5</td>\n",
       "      <td>3.5</td>\n",
       "      <td>4.0</td>\n",
       "      <td>4.0</td>\n",
       "      <td>5.0</td>\n",
       "    </tr>\n",
       "    <tr>\n",
       "      <th>Miami</th>\n",
       "      <td>968.0</td>\n",
       "      <td>4.048037</td>\n",
       "      <td>0.424820</td>\n",
       "      <td>3.0</td>\n",
       "      <td>4.0</td>\n",
       "      <td>4.0</td>\n",
       "      <td>4.5</td>\n",
       "      <td>5.0</td>\n",
       "    </tr>\n",
       "    <tr>\n",
       "      <th>New York</th>\n",
       "      <td>998.0</td>\n",
       "      <td>4.112224</td>\n",
       "      <td>0.303657</td>\n",
       "      <td>3.0</td>\n",
       "      <td>4.0</td>\n",
       "      <td>4.0</td>\n",
       "      <td>4.5</td>\n",
       "      <td>5.0</td>\n",
       "    </tr>\n",
       "    <tr>\n",
       "      <th>San Francisco</th>\n",
       "      <td>998.0</td>\n",
       "      <td>4.055110</td>\n",
       "      <td>0.320589</td>\n",
       "      <td>3.0</td>\n",
       "      <td>4.0</td>\n",
       "      <td>4.0</td>\n",
       "      <td>4.0</td>\n",
       "      <td>5.0</td>\n",
       "    </tr>\n",
       "    <tr>\n",
       "      <th>Seattle</th>\n",
       "      <td>995.0</td>\n",
       "      <td>4.069849</td>\n",
       "      <td>0.350187</td>\n",
       "      <td>3.0</td>\n",
       "      <td>4.0</td>\n",
       "      <td>4.0</td>\n",
       "      <td>4.5</td>\n",
       "      <td>5.0</td>\n",
       "    </tr>\n",
       "  </tbody>\n",
       "</table>\n",
       "</div>"
      ],
      "text/plain": [
       "               count      mean       std  min  25%  50%  75%  max\n",
       "city                                                             \n",
       "Atlanta        984.0  3.872459  0.411240  2.5  3.5  4.0  4.0  5.0\n",
       "Austin         975.0  4.037949  0.423993  2.5  4.0  4.0  4.5  5.0\n",
       "Boston         979.0  3.882022  0.415231  2.5  3.5  4.0  4.0  5.0\n",
       "Chicago        999.0  4.094595  0.325612  3.0  4.0  4.0  4.5  5.0\n",
       "Houston        980.0  3.948469  0.424779  2.5  3.5  4.0  4.0  5.0\n",
       "Miami          968.0  4.048037  0.424820  3.0  4.0  4.0  4.5  5.0\n",
       "New York       998.0  4.112224  0.303657  3.0  4.0  4.0  4.5  5.0\n",
       "San Francisco  998.0  4.055110  0.320589  3.0  4.0  4.0  4.0  5.0\n",
       "Seattle        995.0  4.069849  0.350187  3.0  4.0  4.0  4.5  5.0"
      ]
     },
     "execution_count": 21,
     "metadata": {},
     "output_type": "execute_result"
    }
   ],
   "source": [
    "price_location_df.groupby(['city']).describe()['rating']"
   ]
  },
  {
   "cell_type": "code",
   "execution_count": 22,
   "metadata": {},
   "outputs": [
    {
     "data": {
      "text/html": [
       "<div>\n",
       "<style scoped>\n",
       "    .dataframe tbody tr th:only-of-type {\n",
       "        vertical-align: middle;\n",
       "    }\n",
       "\n",
       "    .dataframe tbody tr th {\n",
       "        vertical-align: top;\n",
       "    }\n",
       "\n",
       "    .dataframe thead th {\n",
       "        text-align: right;\n",
       "    }\n",
       "</style>\n",
       "<table border=\"1\" class=\"dataframe\">\n",
       "  <thead>\n",
       "    <tr style=\"text-align: right;\">\n",
       "      <th></th>\n",
       "      <th>count</th>\n",
       "      <th>mean</th>\n",
       "      <th>std</th>\n",
       "      <th>min</th>\n",
       "      <th>25%</th>\n",
       "      <th>50%</th>\n",
       "      <th>75%</th>\n",
       "      <th>max</th>\n",
       "    </tr>\n",
       "    <tr>\n",
       "      <th>price_ordinal</th>\n",
       "      <th></th>\n",
       "      <th></th>\n",
       "      <th></th>\n",
       "      <th></th>\n",
       "      <th></th>\n",
       "      <th></th>\n",
       "      <th></th>\n",
       "      <th></th>\n",
       "    </tr>\n",
       "  </thead>\n",
       "  <tbody>\n",
       "    <tr>\n",
       "      <th>1</th>\n",
       "      <td>1928.0</td>\n",
       "      <td>4.135892</td>\n",
       "      <td>0.386189</td>\n",
       "      <td>3.0</td>\n",
       "      <td>4.0</td>\n",
       "      <td>4.0</td>\n",
       "      <td>4.5</td>\n",
       "      <td>5.0</td>\n",
       "    </tr>\n",
       "    <tr>\n",
       "      <th>2</th>\n",
       "      <td>5895.0</td>\n",
       "      <td>3.974300</td>\n",
       "      <td>0.388994</td>\n",
       "      <td>2.5</td>\n",
       "      <td>3.5</td>\n",
       "      <td>4.0</td>\n",
       "      <td>4.0</td>\n",
       "      <td>5.0</td>\n",
       "    </tr>\n",
       "    <tr>\n",
       "      <th>3</th>\n",
       "      <td>873.0</td>\n",
       "      <td>3.982245</td>\n",
       "      <td>0.347789</td>\n",
       "      <td>2.5</td>\n",
       "      <td>4.0</td>\n",
       "      <td>4.0</td>\n",
       "      <td>4.0</td>\n",
       "      <td>5.0</td>\n",
       "    </tr>\n",
       "    <tr>\n",
       "      <th>4</th>\n",
       "      <td>180.0</td>\n",
       "      <td>4.155556</td>\n",
       "      <td>0.331279</td>\n",
       "      <td>3.0</td>\n",
       "      <td>4.0</td>\n",
       "      <td>4.0</td>\n",
       "      <td>4.5</td>\n",
       "      <td>5.0</td>\n",
       "    </tr>\n",
       "  </tbody>\n",
       "</table>\n",
       "</div>"
      ],
      "text/plain": [
       "                count      mean       std  min  25%  50%  75%  max\n",
       "price_ordinal                                                     \n",
       "1              1928.0  4.135892  0.386189  3.0  4.0  4.0  4.5  5.0\n",
       "2              5895.0  3.974300  0.388994  2.5  3.5  4.0  4.0  5.0\n",
       "3               873.0  3.982245  0.347789  2.5  4.0  4.0  4.0  5.0\n",
       "4               180.0  4.155556  0.331279  3.0  4.0  4.0  4.5  5.0"
      ]
     },
     "execution_count": 22,
     "metadata": {},
     "output_type": "execute_result"
    }
   ],
   "source": [
    "price_location_df.groupby(['price_ordinal']).describe()['rating']"
   ]
  },
  {
   "cell_type": "code",
   "execution_count": 23,
   "metadata": {},
   "outputs": [],
   "source": [
    "price_location_df['price'] = pd.Categorical(price_location_df['price'])\n",
    "price_location_df['city'] = pd.Categorical(price_location_df['city'])"
   ]
  },
  {
   "cell_type": "code",
   "execution_count": 24,
   "metadata": {},
   "outputs": [
    {
     "name": "stdout",
     "output_type": "stream",
     "text": [
      "                            OLS Regression Results                            \n",
      "==============================================================================\n",
      "Dep. Variable:                 rating   R-squared:                       0.081\n",
      "Model:                            OLS   Adj. R-squared:                  0.079\n",
      "Method:                 Least Squares   F-statistic:                     70.60\n",
      "Date:                Wed, 11 Dec 2019   Prob (F-statistic):          1.31e-152\n",
      "Time:                        21:56:59   Log-Likelihood:                -3853.4\n",
      "No. Observations:                8876   AIC:                             7731.\n",
      "Df Residuals:                    8864   BIC:                             7816.\n",
      "Df Model:                          11                                         \n",
      "Covariance Type:            nonrobust                                         \n",
      "============================================================================================\n",
      "                               coef    std err          t      P>|t|      [0.025      0.975]\n",
      "--------------------------------------------------------------------------------------------\n",
      "Intercept                    4.0074      0.014    281.369      0.000       3.979       4.035\n",
      "C(price)[T.$$]              -0.1706      0.010    -17.203      0.000      -0.190      -0.151\n",
      "C(price)[T.$$$]             -0.1712      0.015    -11.071      0.000      -0.202      -0.141\n",
      "C(price)[T.$$$$]            -0.0221      0.029     -0.753      0.451      -0.080       0.035\n",
      "C(city)[T.Austin]            0.1356      0.017      7.985      0.000       0.102       0.169\n",
      "C(city)[T.Boston]            0.0047      0.017      0.276      0.783      -0.028       0.038\n",
      "C(city)[T.Chicago]           0.2228      0.017     13.255      0.000       0.190       0.256\n",
      "C(city)[T.Houston]           0.0675      0.017      3.999      0.000       0.034       0.101\n",
      "C(city)[T.Miami]             0.1766      0.017     10.435      0.000       0.143       0.210\n",
      "C(city)[T.New York]          0.2480      0.017     14.675      0.000       0.215       0.281\n",
      "C(city)[T.San Francisco]     0.1842      0.017     10.947      0.000       0.151       0.217\n",
      "C(city)[T.Seattle]           0.1897      0.017     11.283      0.000       0.157       0.223\n",
      "==============================================================================\n",
      "Omnibus:                       17.529   Durbin-Watson:                   1.792\n",
      "Prob(Omnibus):                  0.000   Jarque-Bera (JB):               17.951\n",
      "Skew:                          -0.093   Prob(JB):                     0.000126\n",
      "Kurtosis:                       3.119   Cond. No.                         12.1\n",
      "==============================================================================\n",
      "\n",
      "Warnings:\n",
      "[1] Standard Errors assume that the covariance matrix of the errors is correctly specified.\n"
     ]
    }
   ],
   "source": [
    "FE_ols = smf.ols(formula='rating ~ 1  + C(price) + C(city)', data = price_location_df).fit()\n",
    "print(FE_ols.summary())"
   ]
  },
  {
   "cell_type": "markdown",
   "metadata": {},
   "source": [
    "### Part 2 Key Takeaway\n",
    "#### Correlation: \n",
    "\n",
    "(1) Rating and number of ratings is negatively correlated. <br>\n",
    "\n",
    "(2) Number of ratings and price is positively correlated.\n",
    "\n",
    "#### Statistical Difference:\n",
    "\n",
    "(1) The ratings for price levels 2 and 3 are significantly lower than those of price levels 1 and 4.<br>\n",
    "\n",
    "(2) According to the coefficients and significance, we can infer that the order of ratings for restaurants in the 9 target cities is roughly as:\n",
    "\n",
    "New York > Chicago > Seattle > San Francisco > Miami > Austin > Houston > Boston $\\approx$ Atlanta"
   ]
  },
  {
   "cell_type": "markdown",
   "metadata": {},
   "source": [
    "# Part 3: Sentiment Analysis\n",
    "\n",
    "We perform sentiment analysis on the review. First, we use $textblob$ to calculate sentiment scores for each review. Then, we assign gender to users by utilizing name datasets with gender probability. We segment the users based on gender and analyze the gender bias on reviews and ratings. We noticed that while the sentiment scores on the review are similar between genders, female users are more subjective and tend to give a higher rating."
   ]
  },
  {
   "cell_type": "code",
   "execution_count": 25,
   "metadata": {},
   "outputs": [],
   "source": [
    "#extract useful information from raw dictionary\n",
    "def create_restaurants_list(raw_dict):    \n",
    "    restaurant_list = [] \n",
    "    for i in raw_dict:\n",
    "        for j in raw_dict[i]:\n",
    "            for z in raw_dict[i][j]['reviews']:\n",
    "                lst = []\n",
    "                lst.append(z['id'])\n",
    "                lst.append(z['user']['name'])\n",
    "                lst.append(z['text'])\n",
    "                lst.append(z['rating'])\n",
    "                lst.append(raw_dict[i][j]['id'])\n",
    "                lst.append(raw_dict[i][j]['name'])\n",
    "                lst.append(raw_dict[i][j]['review_count'])\n",
    "                lst.append(raw_dict[i][j]['rating'])\n",
    "                lst.append(i)\n",
    "                restaurant_list.append(lst)\n",
    "    return restaurant_list"
   ]
  },
  {
   "cell_type": "code",
   "execution_count": 26,
   "metadata": {},
   "outputs": [],
   "source": [
    "#create dataframe\n",
    "restaurants_df = pd.DataFrame(create_restaurants_list(example_dict), columns = ['review_id','review_name','review_text','review_rating','restaurant_id','restaurant_name','review_count','rating','city'])"
   ]
  },
  {
   "cell_type": "code",
   "execution_count": 27,
   "metadata": {},
   "outputs": [
    {
     "data": {
      "text/plain": [
       "Sentiment(polarity=0.3, subjectivity=0.42500000000000004)"
      ]
     },
     "execution_count": 27,
     "metadata": {},
     "output_type": "execute_result"
    }
   ],
   "source": [
    "#import TextBlob\n",
    "from textblob import TextBlob\n",
    "TextBlob(restaurants_df['review_text'].values[0]).sentiment"
   ]
  },
  {
   "cell_type": "code",
   "execution_count": 28,
   "metadata": {},
   "outputs": [],
   "source": [
    "#use TextBlob to calculate polarity(sentiment score) and subjectivity\n",
    "#polarity is from -1 to 1, which is from negative to positive\n",
    "#subjectivity is from 0 to 1\n",
    "def analyze_polarity_subjectivity(df):\n",
    "    polarity_list=[]\n",
    "    subjectivity_list=[]\n",
    "    for i in range(len(df['review_text'].values)):\n",
    "        senti = TextBlob(df['review_text'].values[i]).sentiment\n",
    "        polarity_list.append(senti.polarity)\n",
    "        subjectivity_list.append(senti.subjectivity)\n",
    "    return polarity_list, subjectivity_list"
   ]
  },
  {
   "cell_type": "code",
   "execution_count": 29,
   "metadata": {},
   "outputs": [],
   "source": [
    "polarity_list, subjectivity_list = analyze_polarity_subjectivity(restaurants_df)"
   ]
  },
  {
   "cell_type": "code",
   "execution_count": 30,
   "metadata": {},
   "outputs": [
    {
     "data": {
      "text/html": [
       "<div>\n",
       "<style scoped>\n",
       "    .dataframe tbody tr th:only-of-type {\n",
       "        vertical-align: middle;\n",
       "    }\n",
       "\n",
       "    .dataframe tbody tr th {\n",
       "        vertical-align: top;\n",
       "    }\n",
       "\n",
       "    .dataframe thead th {\n",
       "        text-align: right;\n",
       "    }\n",
       "</style>\n",
       "<table border=\"1\" class=\"dataframe\">\n",
       "  <thead>\n",
       "    <tr style=\"text-align: right;\">\n",
       "      <th></th>\n",
       "      <th>review_id</th>\n",
       "      <th>review_name</th>\n",
       "      <th>review_text</th>\n",
       "      <th>review_rating</th>\n",
       "      <th>restaurant_id</th>\n",
       "      <th>restaurant_name</th>\n",
       "      <th>review_count</th>\n",
       "      <th>rating</th>\n",
       "      <th>city</th>\n",
       "      <th>polarity</th>\n",
       "      <th>subjectivity</th>\n",
       "    </tr>\n",
       "  </thead>\n",
       "  <tbody>\n",
       "    <tr>\n",
       "      <th>0</th>\n",
       "      <td>DyLDQxiF85lMv-yxf7__-Q</td>\n",
       "      <td>Francis F.</td>\n",
       "      <td>Basically the best pastrami. Ever. \\n\\nI was visiting the city back in September and I still dream about the damn sandwich. \\n\\nYes, the lines are pretty long,...</td>\n",
       "      <td>5</td>\n",
       "      <td>V7lXZKBDzScDeGB8JmnzSA</td>\n",
       "      <td>Katz's Delicatessen</td>\n",
       "      <td>11898</td>\n",
       "      <td>4.0</td>\n",
       "      <td>New York</td>\n",
       "      <td>0.300000</td>\n",
       "      <td>0.425000</td>\n",
       "    </tr>\n",
       "    <tr>\n",
       "      <th>1</th>\n",
       "      <td>SxEAqeOR-aGCATVYF54j2w</td>\n",
       "      <td>Ryan J.</td>\n",
       "      <td>BEST PASTRAMI SANDWICH EVER!\\n\\nThere are a lot of places built on hype, but upon entering Katz's Deli and looking at the walls, you realize that there's...</td>\n",
       "      <td>5</td>\n",
       "      <td>V7lXZKBDzScDeGB8JmnzSA</td>\n",
       "      <td>Katz's Delicatessen</td>\n",
       "      <td>11898</td>\n",
       "      <td>4.0</td>\n",
       "      <td>New York</td>\n",
       "      <td>1.000000</td>\n",
       "      <td>0.300000</td>\n",
       "    </tr>\n",
       "    <tr>\n",
       "      <th>2</th>\n",
       "      <td>nICe-DZ9ExfUR5IFnlFcQQ</td>\n",
       "      <td>Vlad G.</td>\n",
       "      <td>I would love this place better if I didn't have gout unfortunately pastrami and cornedbeef and beef hotdogs all messed with my gout symptoms. Gout as you...</td>\n",
       "      <td>5</td>\n",
       "      <td>V7lXZKBDzScDeGB8JmnzSA</td>\n",
       "      <td>Katz's Delicatessen</td>\n",
       "      <td>11898</td>\n",
       "      <td>4.0</td>\n",
       "      <td>New York</td>\n",
       "      <td>0.166667</td>\n",
       "      <td>0.700000</td>\n",
       "    </tr>\n",
       "    <tr>\n",
       "      <th>3</th>\n",
       "      <td>549eg6x4sBgRCTe_8ND7iw</td>\n",
       "      <td>Patrick W.</td>\n",
       "      <td>What more needs to be said?  This place is fan-fucking-tastic.  I've eaten all over New York City, yet no meal was nearly as satisfying as when I waited in...</td>\n",
       "      <td>5</td>\n",
       "      <td>xEnNFXtMLDF5kZDxfaCJgA</td>\n",
       "      <td>The Halal Guys</td>\n",
       "      <td>9281</td>\n",
       "      <td>4.0</td>\n",
       "      <td>New York</td>\n",
       "      <td>0.378788</td>\n",
       "      <td>0.651515</td>\n",
       "    </tr>\n",
       "    <tr>\n",
       "      <th>4</th>\n",
       "      <td>HNl79nf53GdT_CzQGosnXQ</td>\n",
       "      <td>David C.</td>\n",
       "      <td>So a friend of mine actually got me onto this place out in SF getting food late night after being out drinking. I'd still seek it out just for this...</td>\n",
       "      <td>4</td>\n",
       "      <td>xEnNFXtMLDF5kZDxfaCJgA</td>\n",
       "      <td>The Halal Guys</td>\n",
       "      <td>9281</td>\n",
       "      <td>4.0</td>\n",
       "      <td>New York</td>\n",
       "      <td>-0.150000</td>\n",
       "      <td>0.350000</td>\n",
       "    </tr>\n",
       "  </tbody>\n",
       "</table>\n",
       "</div>"
      ],
      "text/plain": [
       "                review_id review_name  \\\n",
       "0  DyLDQxiF85lMv-yxf7__-Q  Francis F.   \n",
       "1  SxEAqeOR-aGCATVYF54j2w     Ryan J.   \n",
       "2  nICe-DZ9ExfUR5IFnlFcQQ     Vlad G.   \n",
       "3  549eg6x4sBgRCTe_8ND7iw  Patrick W.   \n",
       "4  HNl79nf53GdT_CzQGosnXQ    David C.   \n",
       "\n",
       "                                                                                                                                                          review_text  \\\n",
       "0  Basically the best pastrami. Ever. \\n\\nI was visiting the city back in September and I still dream about the damn sandwich. \\n\\nYes, the lines are pretty long,...   \n",
       "1        BEST PASTRAMI SANDWICH EVER!\\n\\nThere are a lot of places built on hype, but upon entering Katz's Deli and looking at the walls, you realize that there's...   \n",
       "2        I would love this place better if I didn't have gout unfortunately pastrami and cornedbeef and beef hotdogs all messed with my gout symptoms. Gout as you...   \n",
       "3      What more needs to be said?  This place is fan-fucking-tastic.  I've eaten all over New York City, yet no meal was nearly as satisfying as when I waited in...   \n",
       "4              So a friend of mine actually got me onto this place out in SF getting food late night after being out drinking. I'd still seek it out just for this...   \n",
       "\n",
       "   review_rating           restaurant_id      restaurant_name  review_count  \\\n",
       "0              5  V7lXZKBDzScDeGB8JmnzSA  Katz's Delicatessen         11898   \n",
       "1              5  V7lXZKBDzScDeGB8JmnzSA  Katz's Delicatessen         11898   \n",
       "2              5  V7lXZKBDzScDeGB8JmnzSA  Katz's Delicatessen         11898   \n",
       "3              5  xEnNFXtMLDF5kZDxfaCJgA       The Halal Guys          9281   \n",
       "4              4  xEnNFXtMLDF5kZDxfaCJgA       The Halal Guys          9281   \n",
       "\n",
       "   rating      city  polarity  subjectivity  \n",
       "0     4.0  New York  0.300000      0.425000  \n",
       "1     4.0  New York  1.000000      0.300000  \n",
       "2     4.0  New York  0.166667      0.700000  \n",
       "3     4.0  New York  0.378788      0.651515  \n",
       "4     4.0  New York -0.150000      0.350000  "
      ]
     },
     "execution_count": 30,
     "metadata": {},
     "output_type": "execute_result"
    }
   ],
   "source": [
    "#add polarity and subjective as features to dataframe\n",
    "restaurants_df['polarity'] = polarity_list\n",
    "restaurants_df['subjectivity'] = subjectivity_list\n",
    "restaurants_df.head()"
   ]
  },
  {
   "cell_type": "code",
   "execution_count": 31,
   "metadata": {},
   "outputs": [],
   "source": [
    "#read in male.txt and female.txt\n",
    "#the txt file has name with the probability of the gender \n",
    "def create_male_female_names_dict():\n",
    "    #male name\n",
    "    male_names={}\n",
    "    f = open(\"male.txt\", \"r\")\n",
    "    for i in f:\n",
    "        male_names[i.split()[0]] = i.split()[1]\n",
    "\n",
    "    #female name\n",
    "    female_names={}\n",
    "    f = open(\"female.txt\", \"r\")\n",
    "    for i in f:\n",
    "        female_names[i.split()[0]] = i.split()[1]\n",
    "    return male_names, female_names"
   ]
  },
  {
   "cell_type": "code",
   "execution_count": 32,
   "metadata": {},
   "outputs": [],
   "source": [
    "#assign gender based on the name, 0 means female, 1 means male\n",
    "#if a name is shared by both genders, we select the gender with higher probabilities\n",
    "def identify_customer_gender(df, male_names, female_names):\n",
    "    gender = []\n",
    "    for name in list(df['review_name']):\n",
    "        if (name.split()[0]).upper() in female_names and (name.split()[0]).upper() in male_names:\n",
    "            if female_names[(name.split()[0]).upper()]>male_names[(name.split()[0]).upper()]:\n",
    "                gender.append(0)\n",
    "            else:\n",
    "                gender.append(1)\n",
    "        elif (name.split()[0]).upper() in female_names:\n",
    "            gender.append(0)\n",
    "        elif (name.split()[0]).upper() in male_names:\n",
    "            gender.append(1)\n",
    "        else:\n",
    "            gender.append(None)\n",
    "    return gender"
   ]
  },
  {
   "cell_type": "code",
   "execution_count": 33,
   "metadata": {},
   "outputs": [
    {
     "data": {
      "text/html": [
       "<div>\n",
       "<style scoped>\n",
       "    .dataframe tbody tr th:only-of-type {\n",
       "        vertical-align: middle;\n",
       "    }\n",
       "\n",
       "    .dataframe tbody tr th {\n",
       "        vertical-align: top;\n",
       "    }\n",
       "\n",
       "    .dataframe thead th {\n",
       "        text-align: right;\n",
       "    }\n",
       "</style>\n",
       "<table border=\"1\" class=\"dataframe\">\n",
       "  <thead>\n",
       "    <tr style=\"text-align: right;\">\n",
       "      <th></th>\n",
       "      <th>review_id</th>\n",
       "      <th>review_name</th>\n",
       "      <th>review_text</th>\n",
       "      <th>review_rating</th>\n",
       "      <th>restaurant_id</th>\n",
       "      <th>restaurant_name</th>\n",
       "      <th>review_count</th>\n",
       "      <th>rating</th>\n",
       "      <th>city</th>\n",
       "      <th>polarity</th>\n",
       "      <th>subjectivity</th>\n",
       "      <th>gender</th>\n",
       "      <th>diff</th>\n",
       "      <th>diff_abs</th>\n",
       "    </tr>\n",
       "  </thead>\n",
       "  <tbody>\n",
       "    <tr>\n",
       "      <th>0</th>\n",
       "      <td>DyLDQxiF85lMv-yxf7__-Q</td>\n",
       "      <td>Francis F.</td>\n",
       "      <td>Basically the best pastrami. Ever. \\n\\nI was visiting the city back in September and I still dream about the damn sandwich. \\n\\nYes, the lines are pretty long,...</td>\n",
       "      <td>5</td>\n",
       "      <td>V7lXZKBDzScDeGB8JmnzSA</td>\n",
       "      <td>Katz's Delicatessen</td>\n",
       "      <td>11898</td>\n",
       "      <td>4.0</td>\n",
       "      <td>New York</td>\n",
       "      <td>0.300000</td>\n",
       "      <td>0.425000</td>\n",
       "      <td>1.0</td>\n",
       "      <td>1.0</td>\n",
       "      <td>1.0</td>\n",
       "    </tr>\n",
       "    <tr>\n",
       "      <th>1</th>\n",
       "      <td>SxEAqeOR-aGCATVYF54j2w</td>\n",
       "      <td>Ryan J.</td>\n",
       "      <td>BEST PASTRAMI SANDWICH EVER!\\n\\nThere are a lot of places built on hype, but upon entering Katz's Deli and looking at the walls, you realize that there's...</td>\n",
       "      <td>5</td>\n",
       "      <td>V7lXZKBDzScDeGB8JmnzSA</td>\n",
       "      <td>Katz's Delicatessen</td>\n",
       "      <td>11898</td>\n",
       "      <td>4.0</td>\n",
       "      <td>New York</td>\n",
       "      <td>1.000000</td>\n",
       "      <td>0.300000</td>\n",
       "      <td>1.0</td>\n",
       "      <td>1.0</td>\n",
       "      <td>1.0</td>\n",
       "    </tr>\n",
       "    <tr>\n",
       "      <th>2</th>\n",
       "      <td>nICe-DZ9ExfUR5IFnlFcQQ</td>\n",
       "      <td>Vlad G.</td>\n",
       "      <td>I would love this place better if I didn't have gout unfortunately pastrami and cornedbeef and beef hotdogs all messed with my gout symptoms. Gout as you...</td>\n",
       "      <td>5</td>\n",
       "      <td>V7lXZKBDzScDeGB8JmnzSA</td>\n",
       "      <td>Katz's Delicatessen</td>\n",
       "      <td>11898</td>\n",
       "      <td>4.0</td>\n",
       "      <td>New York</td>\n",
       "      <td>0.166667</td>\n",
       "      <td>0.700000</td>\n",
       "      <td>NaN</td>\n",
       "      <td>1.0</td>\n",
       "      <td>1.0</td>\n",
       "    </tr>\n",
       "    <tr>\n",
       "      <th>3</th>\n",
       "      <td>549eg6x4sBgRCTe_8ND7iw</td>\n",
       "      <td>Patrick W.</td>\n",
       "      <td>What more needs to be said?  This place is fan-fucking-tastic.  I've eaten all over New York City, yet no meal was nearly as satisfying as when I waited in...</td>\n",
       "      <td>5</td>\n",
       "      <td>xEnNFXtMLDF5kZDxfaCJgA</td>\n",
       "      <td>The Halal Guys</td>\n",
       "      <td>9281</td>\n",
       "      <td>4.0</td>\n",
       "      <td>New York</td>\n",
       "      <td>0.378788</td>\n",
       "      <td>0.651515</td>\n",
       "      <td>1.0</td>\n",
       "      <td>1.0</td>\n",
       "      <td>1.0</td>\n",
       "    </tr>\n",
       "    <tr>\n",
       "      <th>4</th>\n",
       "      <td>HNl79nf53GdT_CzQGosnXQ</td>\n",
       "      <td>David C.</td>\n",
       "      <td>So a friend of mine actually got me onto this place out in SF getting food late night after being out drinking. I'd still seek it out just for this...</td>\n",
       "      <td>4</td>\n",
       "      <td>xEnNFXtMLDF5kZDxfaCJgA</td>\n",
       "      <td>The Halal Guys</td>\n",
       "      <td>9281</td>\n",
       "      <td>4.0</td>\n",
       "      <td>New York</td>\n",
       "      <td>-0.150000</td>\n",
       "      <td>0.350000</td>\n",
       "      <td>1.0</td>\n",
       "      <td>0.0</td>\n",
       "      <td>0.0</td>\n",
       "    </tr>\n",
       "  </tbody>\n",
       "</table>\n",
       "</div>"
      ],
      "text/plain": [
       "                review_id review_name  \\\n",
       "0  DyLDQxiF85lMv-yxf7__-Q  Francis F.   \n",
       "1  SxEAqeOR-aGCATVYF54j2w     Ryan J.   \n",
       "2  nICe-DZ9ExfUR5IFnlFcQQ     Vlad G.   \n",
       "3  549eg6x4sBgRCTe_8ND7iw  Patrick W.   \n",
       "4  HNl79nf53GdT_CzQGosnXQ    David C.   \n",
       "\n",
       "                                                                                                                                                          review_text  \\\n",
       "0  Basically the best pastrami. Ever. \\n\\nI was visiting the city back in September and I still dream about the damn sandwich. \\n\\nYes, the lines are pretty long,...   \n",
       "1        BEST PASTRAMI SANDWICH EVER!\\n\\nThere are a lot of places built on hype, but upon entering Katz's Deli and looking at the walls, you realize that there's...   \n",
       "2        I would love this place better if I didn't have gout unfortunately pastrami and cornedbeef and beef hotdogs all messed with my gout symptoms. Gout as you...   \n",
       "3      What more needs to be said?  This place is fan-fucking-tastic.  I've eaten all over New York City, yet no meal was nearly as satisfying as when I waited in...   \n",
       "4              So a friend of mine actually got me onto this place out in SF getting food late night after being out drinking. I'd still seek it out just for this...   \n",
       "\n",
       "   review_rating           restaurant_id      restaurant_name  review_count  \\\n",
       "0              5  V7lXZKBDzScDeGB8JmnzSA  Katz's Delicatessen         11898   \n",
       "1              5  V7lXZKBDzScDeGB8JmnzSA  Katz's Delicatessen         11898   \n",
       "2              5  V7lXZKBDzScDeGB8JmnzSA  Katz's Delicatessen         11898   \n",
       "3              5  xEnNFXtMLDF5kZDxfaCJgA       The Halal Guys          9281   \n",
       "4              4  xEnNFXtMLDF5kZDxfaCJgA       The Halal Guys          9281   \n",
       "\n",
       "   rating      city  polarity  subjectivity  gender  diff  diff_abs  \n",
       "0     4.0  New York  0.300000      0.425000     1.0   1.0       1.0  \n",
       "1     4.0  New York  1.000000      0.300000     1.0   1.0       1.0  \n",
       "2     4.0  New York  0.166667      0.700000     NaN   1.0       1.0  \n",
       "3     4.0  New York  0.378788      0.651515     1.0   1.0       1.0  \n",
       "4     4.0  New York -0.150000      0.350000     1.0   0.0       0.0  "
      ]
     },
     "execution_count": 33,
     "metadata": {},
     "output_type": "execute_result"
    }
   ],
   "source": [
    "#add gender, the difference between review rating and restaurants rating, and the absolute value of the difference as features\n",
    "male_names, female_names = create_male_female_names_dict()\n",
    "gender = identify_customer_gender(restaurants_df, male_names, female_names)\n",
    "restaurants_df = restaurants_df.dropna()\n",
    "restaurants_df['gender'] = gender\n",
    "restaurants_df['diff'] = restaurants_df['review_rating']-restaurants_df['rating']\n",
    "restaurants_df['diff_abs'] = abs(restaurants_df['diff'])\n",
    "restaurants_df.head()"
   ]
  },
  {
   "cell_type": "code",
   "execution_count": 34,
   "metadata": {},
   "outputs": [
    {
     "data": {
      "text/html": [
       "<div>\n",
       "<style scoped>\n",
       "    .dataframe tbody tr th:only-of-type {\n",
       "        vertical-align: middle;\n",
       "    }\n",
       "\n",
       "    .dataframe tbody tr th {\n",
       "        vertical-align: top;\n",
       "    }\n",
       "\n",
       "    .dataframe thead th {\n",
       "        text-align: right;\n",
       "    }\n",
       "</style>\n",
       "<table border=\"1\" class=\"dataframe\">\n",
       "  <thead>\n",
       "    <tr style=\"text-align: right;\">\n",
       "      <th></th>\n",
       "      <th>review_id</th>\n",
       "      <th>review_name</th>\n",
       "      <th>review_text</th>\n",
       "      <th>review_rating</th>\n",
       "      <th>restaurant_id</th>\n",
       "      <th>restaurant_name</th>\n",
       "      <th>review_count</th>\n",
       "      <th>rating</th>\n",
       "      <th>city</th>\n",
       "      <th>polarity</th>\n",
       "      <th>subjectivity</th>\n",
       "      <th>diff</th>\n",
       "      <th>diff_abs</th>\n",
       "    </tr>\n",
       "    <tr>\n",
       "      <th>gender</th>\n",
       "      <th></th>\n",
       "      <th></th>\n",
       "      <th></th>\n",
       "      <th></th>\n",
       "      <th></th>\n",
       "      <th></th>\n",
       "      <th></th>\n",
       "      <th></th>\n",
       "      <th></th>\n",
       "      <th></th>\n",
       "      <th></th>\n",
       "      <th></th>\n",
       "      <th></th>\n",
       "    </tr>\n",
       "  </thead>\n",
       "  <tbody>\n",
       "    <tr>\n",
       "      <th>0.0</th>\n",
       "      <td>12413</td>\n",
       "      <td>12413</td>\n",
       "      <td>12413</td>\n",
       "      <td>12413</td>\n",
       "      <td>12413</td>\n",
       "      <td>12413</td>\n",
       "      <td>12413</td>\n",
       "      <td>12413</td>\n",
       "      <td>12413</td>\n",
       "      <td>12413</td>\n",
       "      <td>12413</td>\n",
       "      <td>12413</td>\n",
       "      <td>12413</td>\n",
       "    </tr>\n",
       "    <tr>\n",
       "      <th>1.0</th>\n",
       "      <td>7867</td>\n",
       "      <td>7867</td>\n",
       "      <td>7867</td>\n",
       "      <td>7867</td>\n",
       "      <td>7867</td>\n",
       "      <td>7867</td>\n",
       "      <td>7867</td>\n",
       "      <td>7867</td>\n",
       "      <td>7867</td>\n",
       "      <td>7867</td>\n",
       "      <td>7867</td>\n",
       "      <td>7867</td>\n",
       "      <td>7867</td>\n",
       "    </tr>\n",
       "  </tbody>\n",
       "</table>\n",
       "</div>"
      ],
      "text/plain": [
       "        review_id  review_name  review_text  review_rating  restaurant_id  \\\n",
       "gender                                                                      \n",
       "0.0         12413        12413        12413          12413          12413   \n",
       "1.0          7867         7867         7867           7867           7867   \n",
       "\n",
       "        restaurant_name  review_count  rating   city  polarity  subjectivity  \\\n",
       "gender                                                                         \n",
       "0.0               12413         12413   12413  12413     12413         12413   \n",
       "1.0                7867          7867    7867   7867      7867          7867   \n",
       "\n",
       "         diff  diff_abs  \n",
       "gender                   \n",
       "0.0     12413     12413  \n",
       "1.0      7867      7867  "
      ]
     },
     "execution_count": 34,
     "metadata": {},
     "output_type": "execute_result"
    }
   ],
   "source": [
    "#group by gender and count\n",
    "restaurants_df.groupby('gender').count()"
   ]
  },
  {
   "cell_type": "markdown",
   "metadata": {},
   "source": [
    "We can notice that about 60% of the reviews are from female users."
   ]
  },
  {
   "cell_type": "code",
   "execution_count": 35,
   "metadata": {},
   "outputs": [
    {
     "data": {
      "text/html": [
       "<div>\n",
       "<style scoped>\n",
       "    .dataframe tbody tr th:only-of-type {\n",
       "        vertical-align: middle;\n",
       "    }\n",
       "\n",
       "    .dataframe tbody tr th {\n",
       "        vertical-align: top;\n",
       "    }\n",
       "\n",
       "    .dataframe thead th {\n",
       "        text-align: right;\n",
       "    }\n",
       "</style>\n",
       "<table border=\"1\" class=\"dataframe\">\n",
       "  <thead>\n",
       "    <tr style=\"text-align: right;\">\n",
       "      <th></th>\n",
       "      <th>review_rating</th>\n",
       "      <th>review_count</th>\n",
       "      <th>rating</th>\n",
       "      <th>polarity</th>\n",
       "      <th>subjectivity</th>\n",
       "      <th>diff</th>\n",
       "      <th>diff_abs</th>\n",
       "    </tr>\n",
       "    <tr>\n",
       "      <th>gender</th>\n",
       "      <th></th>\n",
       "      <th></th>\n",
       "      <th></th>\n",
       "      <th></th>\n",
       "      <th></th>\n",
       "      <th></th>\n",
       "      <th></th>\n",
       "    </tr>\n",
       "  </thead>\n",
       "  <tbody>\n",
       "    <tr>\n",
       "      <th>0.0</th>\n",
       "      <td>4.077177</td>\n",
       "      <td>598.683396</td>\n",
       "      <td>4.030331</td>\n",
       "      <td>0.260499</td>\n",
       "      <td>0.566293</td>\n",
       "      <td>0.046846</td>\n",
       "      <td>0.847619</td>\n",
       "    </tr>\n",
       "    <tr>\n",
       "      <th>1.0</th>\n",
       "      <td>4.007245</td>\n",
       "      <td>610.765984</td>\n",
       "      <td>4.022944</td>\n",
       "      <td>0.253887</td>\n",
       "      <td>0.551329</td>\n",
       "      <td>-0.015698</td>\n",
       "      <td>0.923414</td>\n",
       "    </tr>\n",
       "  </tbody>\n",
       "</table>\n",
       "</div>"
      ],
      "text/plain": [
       "        review_rating  review_count    rating  polarity  subjectivity  \\\n",
       "gender                                                                  \n",
       "0.0          4.077177    598.683396  4.030331  0.260499      0.566293   \n",
       "1.0          4.007245    610.765984  4.022944  0.253887      0.551329   \n",
       "\n",
       "            diff  diff_abs  \n",
       "gender                      \n",
       "0.0     0.046846  0.847619  \n",
       "1.0    -0.015698  0.923414  "
      ]
     },
     "execution_count": 35,
     "metadata": {},
     "output_type": "execute_result"
    }
   ],
   "source": [
    "#groupby gender and calculate the mean values\n",
    "restaurants_df.groupby('gender').mean()"
   ]
  },
  {
   "cell_type": "code",
   "execution_count": 36,
   "metadata": {},
   "outputs": [],
   "source": [
    "#use t-test to find out whether the difference is significant or not\n",
    "data_male_rating = list(restaurants_df[restaurants_df['gender']==1]['review_rating'])\n",
    "data_female_rating = list(restaurants_df[restaurants_df['gender']==0]['review_rating'])\n",
    "data_male_polarity = list(restaurants_df[restaurants_df['gender']==1]['polarity'])\n",
    "data_female_polarity = list(restaurants_df[restaurants_df['gender']==0]['polarity'])\n",
    "data_male_subjectivity = list(restaurants_df[restaurants_df['gender']==1]['subjectivity'])\n",
    "data_female_subjectivity = list(restaurants_df[restaurants_df['gender']==0]['subjectivity'])"
   ]
  },
  {
   "cell_type": "code",
   "execution_count": 37,
   "metadata": {},
   "outputs": [
    {
     "name": "stdout",
     "output_type": "stream",
     "text": [
      "t=-4.169, p=0.000\n"
     ]
    }
   ],
   "source": [
    "stat, p = ttest_ind(data_male_rating, data_female_rating)\n",
    "print('t=%.3f, p=%.3f' % (stat, p))"
   ]
  },
  {
   "cell_type": "markdown",
   "metadata": {},
   "source": [
    "rating: female>male<br>\n",
    "The difference is statistically significant."
   ]
  },
  {
   "cell_type": "code",
   "execution_count": 38,
   "metadata": {},
   "outputs": [
    {
     "name": "stdout",
     "output_type": "stream",
     "text": [
      "t=-1.651, p=0.099\n"
     ]
    }
   ],
   "source": [
    "stat, p = ttest_ind(data_male_polarity, data_female_polarity)\n",
    "print('t=%.3f, p=%.3f' % (stat, p))"
   ]
  },
  {
   "cell_type": "markdown",
   "metadata": {},
   "source": [
    "sentiment: the difference is not statistical significant."
   ]
  },
  {
   "cell_type": "code",
   "execution_count": 39,
   "metadata": {},
   "outputs": [
    {
     "name": "stdout",
     "output_type": "stream",
     "text": [
      "t=-4.884, p=0.000\n"
     ]
    }
   ],
   "source": [
    "stat, p = ttest_ind(data_male_subjectivity, data_female_subjectivity)\n",
    "print('t=%.3f, p=%.3f' % (stat, p))"
   ]
  },
  {
   "cell_type": "markdown",
   "metadata": {},
   "source": [
    "subjectivity: female>male<br>\n",
    "The difference is statistically significant.  "
   ]
  },
  {
   "cell_type": "markdown",
   "metadata": {},
   "source": [
    "## Key Takeaway for Part 3\n",
    "\n",
    "The result shows that female users tend to give higher review rating than male users, even though their sentiment scores for review text are similar.<br>\n",
    "However, for review objectivity, it is statistically significant that female users are less objective than male users.<br>"
   ]
  },
  {
   "cell_type": "markdown",
   "metadata": {},
   "source": [
    "# Conclusion and Next Steps\n",
    "\n",
    "In this project, we have implemented different tools to analyze the relationship between Yelp rating and other features inlcuding transactions, price, location, and review text. It helps to enrich our practical experience in working with various types of data and selecting reasonable tools to model relationships.<br>\n",
    "\n",
    "For the next steps, one approach can be taking in more attributes such as business detail data, transaction data and user data to get more insights about resturant industry.<br>\n",
    "Another approach can be including more geographical areas to have a better representation of restaurants across the U.S.<br>\n",
    "With respect to technologies used, we could apply more machine learning algorithms on the datasets to perform user segmentation, user behavior analysis and regressions."
   ]
  },
  {
   "cell_type": "code",
   "execution_count": null,
   "metadata": {},
   "outputs": [],
   "source": []
  }
 ],
 "metadata": {
  "kernelspec": {
   "display_name": "Python 3",
   "language": "python",
   "name": "python3"
  },
  "language_info": {
   "codemirror_mode": {
    "name": "ipython",
    "version": 3
   },
   "file_extension": ".py",
   "mimetype": "text/x-python",
   "name": "python",
   "nbconvert_exporter": "python",
   "pygments_lexer": "ipython3",
   "version": "3.7.3"
  }
 },
 "nbformat": 4,
 "nbformat_minor": 2
}
